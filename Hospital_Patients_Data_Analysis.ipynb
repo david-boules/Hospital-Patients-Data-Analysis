{
  "cells": [
    {
      "cell_type": "markdown",
      "source": [
        "# **AUTHORS:**\n",
        "* David Kareem\n",
        "* Abdelrahman Nawara\n",
        "* Janna El-Kaffas"
      ],
      "metadata": {
        "id": "ZNVi5TjEKZM-"
      }
    },
    {
      "cell_type": "markdown",
      "source": [
        "# **INTRODUCTION**"
      ],
      "metadata": {
        "id": "SlsvtbrS1rN6"
      }
    },
    {
      "cell_type": "markdown",
      "source": [
        "## Describing the Dataset"
      ],
      "metadata": {
        "id": "rAfMfH2a2Z_w"
      }
    },
    {
      "cell_type": "markdown",
      "source": [
        "The dataset we chose is the “Hospital Patient Dataset”, which contains 1000 rows and 10 columns.\n",
        "*   Quantitative Data: Age, Recovery Time, Treatment Cost\n",
        "*   Categorical Data: Gender, Condition, Treatment, Exercise habits, Smoking habits, Drinking habits\n",
        "* We have chosen to disregard 'Patient ID' as it has no numerical nor qualitative meaning"
      ],
      "metadata": {
        "id": "oVWPCpsG1ut1"
      }
    },
    {
      "cell_type": "markdown",
      "source": [
        "## Our Data Analysis Questions"
      ],
      "metadata": {
        "id": "TptWALQD2eqL"
      }
    },
    {
      "cell_type": "markdown",
      "source": [
        "We aim to answer the following overarching research question:\n",
        "\n",
        "\n",
        "---\n",
        "\n",
        "\n",
        "***What are the factors that have the most significant impact on the recovery time of the patients?***\n",
        "\n",
        "---\n",
        "\n",
        "We have decided to divide our analyses into 3 sections to answer this large question in 3 parts, by analyzing:\n",
        "\n",
        "1.   Demographic Factors that affect recovery time\n",
        "2.   Lifestyle Habits that affect recovery time\n",
        "3.   The effect of a patient's condition & treatment type"
      ],
      "metadata": {
        "id": "Y5lnB08h2hiY"
      }
    },
    {
      "cell_type": "markdown",
      "metadata": {
        "id": "4fHRC_xV1R4S"
      },
      "source": [
        "#**Importing the Dataset and the necessary libraries for analysis**"
      ]
    },
    {
      "cell_type": "code",
      "execution_count": null,
      "metadata": {
        "colab": {
          "base_uri": "https://localhost:8080/",
          "height": 206
        },
        "id": "KpLmGluS1YJM",
        "outputId": "aea3a2f8-46f8-4aa5-9da5-b3accf985ded"
      },
      "outputs": [
        {
          "output_type": "execute_result",
          "data": {
            "text/plain": [
              "   PatientID  Age  Gender Condition    Treatment  TreatmentCost  RecoveryTime  \\\n",
              "0          1   48    Male  Diabetes   Medication         948.86            31   \n",
              "1          2   32    Male      Cold  Warm Fluids         128.04             5   \n",
              "2          3   18    Male      Cold  Warm Fluids         243.91            10   \n",
              "3          4   38  Female      Cold  Warm Fluids          84.85             7   \n",
              "4          5   49    Male    Injury      Surgery         166.65            27   \n",
              "\n",
              "   Smoking Drinking  Exercise  \n",
              "0  Current  Current       Low  \n",
              "1    Never   Former      High  \n",
              "2  Current   Former       Low  \n",
              "3    Never    Never  Moderate  \n",
              "4   Former    Never  Moderate  "
            ],
            "text/html": [
              "\n",
              "  <div id=\"df-4bcaf98c-9013-4cdf-84d3-819465a60da2\" class=\"colab-df-container\">\n",
              "    <div>\n",
              "<style scoped>\n",
              "    .dataframe tbody tr th:only-of-type {\n",
              "        vertical-align: middle;\n",
              "    }\n",
              "\n",
              "    .dataframe tbody tr th {\n",
              "        vertical-align: top;\n",
              "    }\n",
              "\n",
              "    .dataframe thead th {\n",
              "        text-align: right;\n",
              "    }\n",
              "</style>\n",
              "<table border=\"1\" class=\"dataframe\">\n",
              "  <thead>\n",
              "    <tr style=\"text-align: right;\">\n",
              "      <th></th>\n",
              "      <th>PatientID</th>\n",
              "      <th>Age</th>\n",
              "      <th>Gender</th>\n",
              "      <th>Condition</th>\n",
              "      <th>Treatment</th>\n",
              "      <th>TreatmentCost</th>\n",
              "      <th>RecoveryTime</th>\n",
              "      <th>Smoking</th>\n",
              "      <th>Drinking</th>\n",
              "      <th>Exercise</th>\n",
              "    </tr>\n",
              "  </thead>\n",
              "  <tbody>\n",
              "    <tr>\n",
              "      <th>0</th>\n",
              "      <td>1</td>\n",
              "      <td>48</td>\n",
              "      <td>Male</td>\n",
              "      <td>Diabetes</td>\n",
              "      <td>Medication</td>\n",
              "      <td>948.86</td>\n",
              "      <td>31</td>\n",
              "      <td>Current</td>\n",
              "      <td>Current</td>\n",
              "      <td>Low</td>\n",
              "    </tr>\n",
              "    <tr>\n",
              "      <th>1</th>\n",
              "      <td>2</td>\n",
              "      <td>32</td>\n",
              "      <td>Male</td>\n",
              "      <td>Cold</td>\n",
              "      <td>Warm Fluids</td>\n",
              "      <td>128.04</td>\n",
              "      <td>5</td>\n",
              "      <td>Never</td>\n",
              "      <td>Former</td>\n",
              "      <td>High</td>\n",
              "    </tr>\n",
              "    <tr>\n",
              "      <th>2</th>\n",
              "      <td>3</td>\n",
              "      <td>18</td>\n",
              "      <td>Male</td>\n",
              "      <td>Cold</td>\n",
              "      <td>Warm Fluids</td>\n",
              "      <td>243.91</td>\n",
              "      <td>10</td>\n",
              "      <td>Current</td>\n",
              "      <td>Former</td>\n",
              "      <td>Low</td>\n",
              "    </tr>\n",
              "    <tr>\n",
              "      <th>3</th>\n",
              "      <td>4</td>\n",
              "      <td>38</td>\n",
              "      <td>Female</td>\n",
              "      <td>Cold</td>\n",
              "      <td>Warm Fluids</td>\n",
              "      <td>84.85</td>\n",
              "      <td>7</td>\n",
              "      <td>Never</td>\n",
              "      <td>Never</td>\n",
              "      <td>Moderate</td>\n",
              "    </tr>\n",
              "    <tr>\n",
              "      <th>4</th>\n",
              "      <td>5</td>\n",
              "      <td>49</td>\n",
              "      <td>Male</td>\n",
              "      <td>Injury</td>\n",
              "      <td>Surgery</td>\n",
              "      <td>166.65</td>\n",
              "      <td>27</td>\n",
              "      <td>Former</td>\n",
              "      <td>Never</td>\n",
              "      <td>Moderate</td>\n",
              "    </tr>\n",
              "  </tbody>\n",
              "</table>\n",
              "</div>\n",
              "    <div class=\"colab-df-buttons\">\n",
              "\n",
              "  <div class=\"colab-df-container\">\n",
              "    <button class=\"colab-df-convert\" onclick=\"convertToInteractive('df-4bcaf98c-9013-4cdf-84d3-819465a60da2')\"\n",
              "            title=\"Convert this dataframe to an interactive table.\"\n",
              "            style=\"display:none;\">\n",
              "\n",
              "  <svg xmlns=\"http://www.w3.org/2000/svg\" height=\"24px\" viewBox=\"0 -960 960 960\">\n",
              "    <path d=\"M120-120v-720h720v720H120Zm60-500h600v-160H180v160Zm220 220h160v-160H400v160Zm0 220h160v-160H400v160ZM180-400h160v-160H180v160Zm440 0h160v-160H620v160ZM180-180h160v-160H180v160Zm440 0h160v-160H620v160Z\"/>\n",
              "  </svg>\n",
              "    </button>\n",
              "\n",
              "  <style>\n",
              "    .colab-df-container {\n",
              "      display:flex;\n",
              "      gap: 12px;\n",
              "    }\n",
              "\n",
              "    .colab-df-convert {\n",
              "      background-color: #E8F0FE;\n",
              "      border: none;\n",
              "      border-radius: 50%;\n",
              "      cursor: pointer;\n",
              "      display: none;\n",
              "      fill: #1967D2;\n",
              "      height: 32px;\n",
              "      padding: 0 0 0 0;\n",
              "      width: 32px;\n",
              "    }\n",
              "\n",
              "    .colab-df-convert:hover {\n",
              "      background-color: #E2EBFA;\n",
              "      box-shadow: 0px 1px 2px rgba(60, 64, 67, 0.3), 0px 1px 3px 1px rgba(60, 64, 67, 0.15);\n",
              "      fill: #174EA6;\n",
              "    }\n",
              "\n",
              "    .colab-df-buttons div {\n",
              "      margin-bottom: 4px;\n",
              "    }\n",
              "\n",
              "    [theme=dark] .colab-df-convert {\n",
              "      background-color: #3B4455;\n",
              "      fill: #D2E3FC;\n",
              "    }\n",
              "\n",
              "    [theme=dark] .colab-df-convert:hover {\n",
              "      background-color: #434B5C;\n",
              "      box-shadow: 0px 1px 3px 1px rgba(0, 0, 0, 0.15);\n",
              "      filter: drop-shadow(0px 1px 2px rgba(0, 0, 0, 0.3));\n",
              "      fill: #FFFFFF;\n",
              "    }\n",
              "  </style>\n",
              "\n",
              "    <script>\n",
              "      const buttonEl =\n",
              "        document.querySelector('#df-4bcaf98c-9013-4cdf-84d3-819465a60da2 button.colab-df-convert');\n",
              "      buttonEl.style.display =\n",
              "        google.colab.kernel.accessAllowed ? 'block' : 'none';\n",
              "\n",
              "      async function convertToInteractive(key) {\n",
              "        const element = document.querySelector('#df-4bcaf98c-9013-4cdf-84d3-819465a60da2');\n",
              "        const dataTable =\n",
              "          await google.colab.kernel.invokeFunction('convertToInteractive',\n",
              "                                                    [key], {});\n",
              "        if (!dataTable) return;\n",
              "\n",
              "        const docLinkHtml = 'Like what you see? Visit the ' +\n",
              "          '<a target=\"_blank\" href=https://colab.research.google.com/notebooks/data_table.ipynb>data table notebook</a>'\n",
              "          + ' to learn more about interactive tables.';\n",
              "        element.innerHTML = '';\n",
              "        dataTable['output_type'] = 'display_data';\n",
              "        await google.colab.output.renderOutput(dataTable, element);\n",
              "        const docLink = document.createElement('div');\n",
              "        docLink.innerHTML = docLinkHtml;\n",
              "        element.appendChild(docLink);\n",
              "      }\n",
              "    </script>\n",
              "  </div>\n",
              "\n",
              "\n",
              "<div id=\"df-4b454e7b-73c7-4871-8401-7634df94428b\">\n",
              "  <button class=\"colab-df-quickchart\" onclick=\"quickchart('df-4b454e7b-73c7-4871-8401-7634df94428b')\"\n",
              "            title=\"Suggest charts\"\n",
              "            style=\"display:none;\">\n",
              "\n",
              "<svg xmlns=\"http://www.w3.org/2000/svg\" height=\"24px\"viewBox=\"0 0 24 24\"\n",
              "     width=\"24px\">\n",
              "    <g>\n",
              "        <path d=\"M19 3H5c-1.1 0-2 .9-2 2v14c0 1.1.9 2 2 2h14c1.1 0 2-.9 2-2V5c0-1.1-.9-2-2-2zM9 17H7v-7h2v7zm4 0h-2V7h2v10zm4 0h-2v-4h2v4z\"/>\n",
              "    </g>\n",
              "</svg>\n",
              "  </button>\n",
              "\n",
              "<style>\n",
              "  .colab-df-quickchart {\n",
              "      --bg-color: #E8F0FE;\n",
              "      --fill-color: #1967D2;\n",
              "      --hover-bg-color: #E2EBFA;\n",
              "      --hover-fill-color: #174EA6;\n",
              "      --disabled-fill-color: #AAA;\n",
              "      --disabled-bg-color: #DDD;\n",
              "  }\n",
              "\n",
              "  [theme=dark] .colab-df-quickchart {\n",
              "      --bg-color: #3B4455;\n",
              "      --fill-color: #D2E3FC;\n",
              "      --hover-bg-color: #434B5C;\n",
              "      --hover-fill-color: #FFFFFF;\n",
              "      --disabled-bg-color: #3B4455;\n",
              "      --disabled-fill-color: #666;\n",
              "  }\n",
              "\n",
              "  .colab-df-quickchart {\n",
              "    background-color: var(--bg-color);\n",
              "    border: none;\n",
              "    border-radius: 50%;\n",
              "    cursor: pointer;\n",
              "    display: none;\n",
              "    fill: var(--fill-color);\n",
              "    height: 32px;\n",
              "    padding: 0;\n",
              "    width: 32px;\n",
              "  }\n",
              "\n",
              "  .colab-df-quickchart:hover {\n",
              "    background-color: var(--hover-bg-color);\n",
              "    box-shadow: 0 1px 2px rgba(60, 64, 67, 0.3), 0 1px 3px 1px rgba(60, 64, 67, 0.15);\n",
              "    fill: var(--button-hover-fill-color);\n",
              "  }\n",
              "\n",
              "  .colab-df-quickchart-complete:disabled,\n",
              "  .colab-df-quickchart-complete:disabled:hover {\n",
              "    background-color: var(--disabled-bg-color);\n",
              "    fill: var(--disabled-fill-color);\n",
              "    box-shadow: none;\n",
              "  }\n",
              "\n",
              "  .colab-df-spinner {\n",
              "    border: 2px solid var(--fill-color);\n",
              "    border-color: transparent;\n",
              "    border-bottom-color: var(--fill-color);\n",
              "    animation:\n",
              "      spin 1s steps(1) infinite;\n",
              "  }\n",
              "\n",
              "  @keyframes spin {\n",
              "    0% {\n",
              "      border-color: transparent;\n",
              "      border-bottom-color: var(--fill-color);\n",
              "      border-left-color: var(--fill-color);\n",
              "    }\n",
              "    20% {\n",
              "      border-color: transparent;\n",
              "      border-left-color: var(--fill-color);\n",
              "      border-top-color: var(--fill-color);\n",
              "    }\n",
              "    30% {\n",
              "      border-color: transparent;\n",
              "      border-left-color: var(--fill-color);\n",
              "      border-top-color: var(--fill-color);\n",
              "      border-right-color: var(--fill-color);\n",
              "    }\n",
              "    40% {\n",
              "      border-color: transparent;\n",
              "      border-right-color: var(--fill-color);\n",
              "      border-top-color: var(--fill-color);\n",
              "    }\n",
              "    60% {\n",
              "      border-color: transparent;\n",
              "      border-right-color: var(--fill-color);\n",
              "    }\n",
              "    80% {\n",
              "      border-color: transparent;\n",
              "      border-right-color: var(--fill-color);\n",
              "      border-bottom-color: var(--fill-color);\n",
              "    }\n",
              "    90% {\n",
              "      border-color: transparent;\n",
              "      border-bottom-color: var(--fill-color);\n",
              "    }\n",
              "  }\n",
              "</style>\n",
              "\n",
              "  <script>\n",
              "    async function quickchart(key) {\n",
              "      const quickchartButtonEl =\n",
              "        document.querySelector('#' + key + ' button');\n",
              "      quickchartButtonEl.disabled = true;  // To prevent multiple clicks.\n",
              "      quickchartButtonEl.classList.add('colab-df-spinner');\n",
              "      try {\n",
              "        const charts = await google.colab.kernel.invokeFunction(\n",
              "            'suggestCharts', [key], {});\n",
              "      } catch (error) {\n",
              "        console.error('Error during call to suggestCharts:', error);\n",
              "      }\n",
              "      quickchartButtonEl.classList.remove('colab-df-spinner');\n",
              "      quickchartButtonEl.classList.add('colab-df-quickchart-complete');\n",
              "    }\n",
              "    (() => {\n",
              "      let quickchartButtonEl =\n",
              "        document.querySelector('#df-4b454e7b-73c7-4871-8401-7634df94428b button');\n",
              "      quickchartButtonEl.style.display =\n",
              "        google.colab.kernel.accessAllowed ? 'block' : 'none';\n",
              "    })();\n",
              "  </script>\n",
              "</div>\n",
              "    </div>\n",
              "  </div>\n"
            ],
            "application/vnd.google.colaboratory.intrinsic+json": {
              "type": "dataframe",
              "variable_name": "df",
              "summary": "{\n  \"name\": \"df\",\n  \"rows\": 1000,\n  \"fields\": [\n    {\n      \"column\": \"PatientID\",\n      \"properties\": {\n        \"dtype\": \"number\",\n        \"std\": 288,\n        \"min\": 1,\n        \"max\": 1000,\n        \"num_unique_values\": 1000,\n        \"samples\": [\n          522,\n          738,\n          741\n        ],\n        \"semantic_type\": \"\",\n        \"description\": \"\"\n      }\n    },\n    {\n      \"column\": \"Age\",\n      \"properties\": {\n        \"dtype\": \"number\",\n        \"std\": 17,\n        \"min\": 18,\n        \"max\": 90,\n        \"num_unique_values\": 70,\n        \"samples\": [\n          58,\n          48,\n          40\n        ],\n        \"semantic_type\": \"\",\n        \"description\": \"\"\n      }\n    },\n    {\n      \"column\": \"Gender\",\n      \"properties\": {\n        \"dtype\": \"category\",\n        \"num_unique_values\": 2,\n        \"samples\": [\n          \"Female\",\n          \"Male\"\n        ],\n        \"semantic_type\": \"\",\n        \"description\": \"\"\n      }\n    },\n    {\n      \"column\": \"Condition\",\n      \"properties\": {\n        \"dtype\": \"category\",\n        \"num_unique_values\": 6,\n        \"samples\": [\n          \"Diabetes\",\n          \"Cold\"\n        ],\n        \"semantic_type\": \"\",\n        \"description\": \"\"\n      }\n    },\n    {\n      \"column\": \"Treatment\",\n      \"properties\": {\n        \"dtype\": \"category\",\n        \"num_unique_values\": 6,\n        \"samples\": [\n          \"Medication\",\n          \"Warm Fluids\"\n        ],\n        \"semantic_type\": \"\",\n        \"description\": \"\"\n      }\n    },\n    {\n      \"column\": \"TreatmentCost\",\n      \"properties\": {\n        \"dtype\": \"number\",\n        \"std\": 1209.7800178613136,\n        \"min\": 10.06,\n        \"max\": 28060.93,\n        \"num_unique_values\": 992,\n        \"samples\": [\n          4225.48,\n          378.86\n        ],\n        \"semantic_type\": \"\",\n        \"description\": \"\"\n      }\n    },\n    {\n      \"column\": \"RecoveryTime\",\n      \"properties\": {\n        \"dtype\": \"number\",\n        \"std\": 22,\n        \"min\": 0,\n        \"max\": 130,\n        \"num_unique_values\": 104,\n        \"samples\": [\n          80,\n          19\n        ],\n        \"semantic_type\": \"\",\n        \"description\": \"\"\n      }\n    },\n    {\n      \"column\": \"Smoking\",\n      \"properties\": {\n        \"dtype\": \"category\",\n        \"num_unique_values\": 3,\n        \"samples\": [\n          \"Current\",\n          \"Never\"\n        ],\n        \"semantic_type\": \"\",\n        \"description\": \"\"\n      }\n    },\n    {\n      \"column\": \"Drinking\",\n      \"properties\": {\n        \"dtype\": \"category\",\n        \"num_unique_values\": 3,\n        \"samples\": [\n          \"Current\",\n          \"Former\"\n        ],\n        \"semantic_type\": \"\",\n        \"description\": \"\"\n      }\n    },\n    {\n      \"column\": \"Exercise\",\n      \"properties\": {\n        \"dtype\": \"category\",\n        \"num_unique_values\": 3,\n        \"samples\": [\n          \"Low\",\n          \"High\"\n        ],\n        \"semantic_type\": \"\",\n        \"description\": \"\"\n      }\n    }\n  ]\n}"
            }
          },
          "metadata": {},
          "execution_count": 1
        }
      ],
      "source": [
        "import pandas as pd\n",
        "import matplotlib.pyplot as plt\n",
        "import seaborn as sns\n",
        "\n",
        "df = pd.read_csv(\"https://raw.githubusercontent.com/ahmedmoustafa/AUC-DSCI1412-Spring2024/main/project/hospital_patients.csv\")\n",
        "df.head()"
      ]
    },
    {
      "cell_type": "code",
      "execution_count": null,
      "metadata": {
        "colab": {
          "base_uri": "https://localhost:8080/"
        },
        "id": "XoK_SjjO1mVI",
        "outputId": "db4a11b9-428b-4ad6-bc8a-adba6ec535aa"
      },
      "outputs": [
        {
          "output_type": "execute_result",
          "data": {
            "text/plain": [
              "(1000, 10)"
            ]
          },
          "metadata": {},
          "execution_count": 2
        }
      ],
      "source": [
        "df.shape"
      ]
    },
    {
      "cell_type": "markdown",
      "metadata": {
        "id": "LhUMvm0t1xCp"
      },
      "source": [
        "#**Data Cleaning & Pre-processing**"
      ]
    },
    {
      "cell_type": "markdown",
      "source": [
        "## Brief Methodology:"
      ],
      "metadata": {
        "id": "pZ9atn3z8p4p"
      }
    },
    {
      "cell_type": "markdown",
      "source": [
        "Tools used for data analysis:\n",
        "\n",
        "\n",
        "---\n",
        "Data Visualization tools:\n",
        "* Box plots\n",
        "* Bar plots\n",
        "* Scatter plots\n",
        "---\n",
        "Statistical tools:\n",
        "* Correlation coefficients\n",
        "* T-tests\n",
        "* ANOVA tests"
      ],
      "metadata": {
        "id": "ECQt2I5o7RQt"
      }
    },
    {
      "cell_type": "markdown",
      "metadata": {
        "id": "kiOfkAvu4bJx"
      },
      "source": [
        "## Removing Patient ID"
      ]
    },
    {
      "cell_type": "markdown",
      "metadata": {
        "id": "3X0PUZhk4mIb"
      },
      "source": [
        "We decided to remove the column 'Patient ID' from the data set as it would have no numeric or qualitative meaning in our analyses:"
      ]
    },
    {
      "cell_type": "code",
      "execution_count": null,
      "metadata": {
        "colab": {
          "base_uri": "https://localhost:8080/"
        },
        "id": "8ABYKfrS40ae",
        "outputId": "713894d7-c23a-4ce5-ecb4-1d4030db17ca"
      },
      "outputs": [
        {
          "output_type": "execute_result",
          "data": {
            "text/plain": [
              "(1000, 9)"
            ]
          },
          "metadata": {},
          "execution_count": 3
        }
      ],
      "source": [
        "df = df.drop(columns = ['PatientID'])\n",
        "df.shape"
      ]
    },
    {
      "cell_type": "markdown",
      "metadata": {
        "id": "qmFaAUe25LGz"
      },
      "source": [
        "Now, only 9 columns, therefore PatientID has been removed"
      ]
    },
    {
      "cell_type": "markdown",
      "metadata": {
        "id": "DWUHzRx04jOO"
      },
      "source": [
        "## Erroneous Data ##"
      ]
    },
    {
      "cell_type": "code",
      "execution_count": null,
      "metadata": {
        "colab": {
          "base_uri": "https://localhost:8080/"
        },
        "id": "rh9i8iD71_gf",
        "outputId": "6073bdea-42d0-43fa-afef-4778c888989d"
      },
      "outputs": [
        {
          "output_type": "execute_result",
          "data": {
            "text/plain": [
              "0"
            ]
          },
          "metadata": {},
          "execution_count": 4
        }
      ],
      "source": [
        "min(df['RecoveryTime'])"
      ]
    },
    {
      "cell_type": "code",
      "execution_count": null,
      "metadata": {
        "colab": {
          "base_uri": "https://localhost:8080/",
          "height": 112
        },
        "id": "_iPC6EdaYKjE",
        "outputId": "0efccd7e-f3ef-4e90-e1ef-8289f7afd4d3"
      },
      "outputs": [
        {
          "output_type": "execute_result",
          "data": {
            "text/plain": [
              "     Age  Gender Condition   Treatment  TreatmentCost  RecoveryTime Smoking  \\\n",
              "208   21  Female     Fever  Medication         265.51             0   Never   \n",
              "467   54  Female     Fever        Rest         149.41             0   Never   \n",
              "\n",
              "    Drinking Exercise  \n",
              "208  Current     High  \n",
              "467  Current     High  "
            ],
            "text/html": [
              "\n",
              "  <div id=\"df-79602a6b-200a-46ef-9428-3e236a5d736a\" class=\"colab-df-container\">\n",
              "    <div>\n",
              "<style scoped>\n",
              "    .dataframe tbody tr th:only-of-type {\n",
              "        vertical-align: middle;\n",
              "    }\n",
              "\n",
              "    .dataframe tbody tr th {\n",
              "        vertical-align: top;\n",
              "    }\n",
              "\n",
              "    .dataframe thead th {\n",
              "        text-align: right;\n",
              "    }\n",
              "</style>\n",
              "<table border=\"1\" class=\"dataframe\">\n",
              "  <thead>\n",
              "    <tr style=\"text-align: right;\">\n",
              "      <th></th>\n",
              "      <th>Age</th>\n",
              "      <th>Gender</th>\n",
              "      <th>Condition</th>\n",
              "      <th>Treatment</th>\n",
              "      <th>TreatmentCost</th>\n",
              "      <th>RecoveryTime</th>\n",
              "      <th>Smoking</th>\n",
              "      <th>Drinking</th>\n",
              "      <th>Exercise</th>\n",
              "    </tr>\n",
              "  </thead>\n",
              "  <tbody>\n",
              "    <tr>\n",
              "      <th>208</th>\n",
              "      <td>21</td>\n",
              "      <td>Female</td>\n",
              "      <td>Fever</td>\n",
              "      <td>Medication</td>\n",
              "      <td>265.51</td>\n",
              "      <td>0</td>\n",
              "      <td>Never</td>\n",
              "      <td>Current</td>\n",
              "      <td>High</td>\n",
              "    </tr>\n",
              "    <tr>\n",
              "      <th>467</th>\n",
              "      <td>54</td>\n",
              "      <td>Female</td>\n",
              "      <td>Fever</td>\n",
              "      <td>Rest</td>\n",
              "      <td>149.41</td>\n",
              "      <td>0</td>\n",
              "      <td>Never</td>\n",
              "      <td>Current</td>\n",
              "      <td>High</td>\n",
              "    </tr>\n",
              "  </tbody>\n",
              "</table>\n",
              "</div>\n",
              "    <div class=\"colab-df-buttons\">\n",
              "\n",
              "  <div class=\"colab-df-container\">\n",
              "    <button class=\"colab-df-convert\" onclick=\"convertToInteractive('df-79602a6b-200a-46ef-9428-3e236a5d736a')\"\n",
              "            title=\"Convert this dataframe to an interactive table.\"\n",
              "            style=\"display:none;\">\n",
              "\n",
              "  <svg xmlns=\"http://www.w3.org/2000/svg\" height=\"24px\" viewBox=\"0 -960 960 960\">\n",
              "    <path d=\"M120-120v-720h720v720H120Zm60-500h600v-160H180v160Zm220 220h160v-160H400v160Zm0 220h160v-160H400v160ZM180-400h160v-160H180v160Zm440 0h160v-160H620v160ZM180-180h160v-160H180v160Zm440 0h160v-160H620v160Z\"/>\n",
              "  </svg>\n",
              "    </button>\n",
              "\n",
              "  <style>\n",
              "    .colab-df-container {\n",
              "      display:flex;\n",
              "      gap: 12px;\n",
              "    }\n",
              "\n",
              "    .colab-df-convert {\n",
              "      background-color: #E8F0FE;\n",
              "      border: none;\n",
              "      border-radius: 50%;\n",
              "      cursor: pointer;\n",
              "      display: none;\n",
              "      fill: #1967D2;\n",
              "      height: 32px;\n",
              "      padding: 0 0 0 0;\n",
              "      width: 32px;\n",
              "    }\n",
              "\n",
              "    .colab-df-convert:hover {\n",
              "      background-color: #E2EBFA;\n",
              "      box-shadow: 0px 1px 2px rgba(60, 64, 67, 0.3), 0px 1px 3px 1px rgba(60, 64, 67, 0.15);\n",
              "      fill: #174EA6;\n",
              "    }\n",
              "\n",
              "    .colab-df-buttons div {\n",
              "      margin-bottom: 4px;\n",
              "    }\n",
              "\n",
              "    [theme=dark] .colab-df-convert {\n",
              "      background-color: #3B4455;\n",
              "      fill: #D2E3FC;\n",
              "    }\n",
              "\n",
              "    [theme=dark] .colab-df-convert:hover {\n",
              "      background-color: #434B5C;\n",
              "      box-shadow: 0px 1px 3px 1px rgba(0, 0, 0, 0.15);\n",
              "      filter: drop-shadow(0px 1px 2px rgba(0, 0, 0, 0.3));\n",
              "      fill: #FFFFFF;\n",
              "    }\n",
              "  </style>\n",
              "\n",
              "    <script>\n",
              "      const buttonEl =\n",
              "        document.querySelector('#df-79602a6b-200a-46ef-9428-3e236a5d736a button.colab-df-convert');\n",
              "      buttonEl.style.display =\n",
              "        google.colab.kernel.accessAllowed ? 'block' : 'none';\n",
              "\n",
              "      async function convertToInteractive(key) {\n",
              "        const element = document.querySelector('#df-79602a6b-200a-46ef-9428-3e236a5d736a');\n",
              "        const dataTable =\n",
              "          await google.colab.kernel.invokeFunction('convertToInteractive',\n",
              "                                                    [key], {});\n",
              "        if (!dataTable) return;\n",
              "\n",
              "        const docLinkHtml = 'Like what you see? Visit the ' +\n",
              "          '<a target=\"_blank\" href=https://colab.research.google.com/notebooks/data_table.ipynb>data table notebook</a>'\n",
              "          + ' to learn more about interactive tables.';\n",
              "        element.innerHTML = '';\n",
              "        dataTable['output_type'] = 'display_data';\n",
              "        await google.colab.output.renderOutput(dataTable, element);\n",
              "        const docLink = document.createElement('div');\n",
              "        docLink.innerHTML = docLinkHtml;\n",
              "        element.appendChild(docLink);\n",
              "      }\n",
              "    </script>\n",
              "  </div>\n",
              "\n",
              "\n",
              "<div id=\"df-85cddc79-fd0b-45c7-95e1-c3f2e39a05fc\">\n",
              "  <button class=\"colab-df-quickchart\" onclick=\"quickchart('df-85cddc79-fd0b-45c7-95e1-c3f2e39a05fc')\"\n",
              "            title=\"Suggest charts\"\n",
              "            style=\"display:none;\">\n",
              "\n",
              "<svg xmlns=\"http://www.w3.org/2000/svg\" height=\"24px\"viewBox=\"0 0 24 24\"\n",
              "     width=\"24px\">\n",
              "    <g>\n",
              "        <path d=\"M19 3H5c-1.1 0-2 .9-2 2v14c0 1.1.9 2 2 2h14c1.1 0 2-.9 2-2V5c0-1.1-.9-2-2-2zM9 17H7v-7h2v7zm4 0h-2V7h2v10zm4 0h-2v-4h2v4z\"/>\n",
              "    </g>\n",
              "</svg>\n",
              "  </button>\n",
              "\n",
              "<style>\n",
              "  .colab-df-quickchart {\n",
              "      --bg-color: #E8F0FE;\n",
              "      --fill-color: #1967D2;\n",
              "      --hover-bg-color: #E2EBFA;\n",
              "      --hover-fill-color: #174EA6;\n",
              "      --disabled-fill-color: #AAA;\n",
              "      --disabled-bg-color: #DDD;\n",
              "  }\n",
              "\n",
              "  [theme=dark] .colab-df-quickchart {\n",
              "      --bg-color: #3B4455;\n",
              "      --fill-color: #D2E3FC;\n",
              "      --hover-bg-color: #434B5C;\n",
              "      --hover-fill-color: #FFFFFF;\n",
              "      --disabled-bg-color: #3B4455;\n",
              "      --disabled-fill-color: #666;\n",
              "  }\n",
              "\n",
              "  .colab-df-quickchart {\n",
              "    background-color: var(--bg-color);\n",
              "    border: none;\n",
              "    border-radius: 50%;\n",
              "    cursor: pointer;\n",
              "    display: none;\n",
              "    fill: var(--fill-color);\n",
              "    height: 32px;\n",
              "    padding: 0;\n",
              "    width: 32px;\n",
              "  }\n",
              "\n",
              "  .colab-df-quickchart:hover {\n",
              "    background-color: var(--hover-bg-color);\n",
              "    box-shadow: 0 1px 2px rgba(60, 64, 67, 0.3), 0 1px 3px 1px rgba(60, 64, 67, 0.15);\n",
              "    fill: var(--button-hover-fill-color);\n",
              "  }\n",
              "\n",
              "  .colab-df-quickchart-complete:disabled,\n",
              "  .colab-df-quickchart-complete:disabled:hover {\n",
              "    background-color: var(--disabled-bg-color);\n",
              "    fill: var(--disabled-fill-color);\n",
              "    box-shadow: none;\n",
              "  }\n",
              "\n",
              "  .colab-df-spinner {\n",
              "    border: 2px solid var(--fill-color);\n",
              "    border-color: transparent;\n",
              "    border-bottom-color: var(--fill-color);\n",
              "    animation:\n",
              "      spin 1s steps(1) infinite;\n",
              "  }\n",
              "\n",
              "  @keyframes spin {\n",
              "    0% {\n",
              "      border-color: transparent;\n",
              "      border-bottom-color: var(--fill-color);\n",
              "      border-left-color: var(--fill-color);\n",
              "    }\n",
              "    20% {\n",
              "      border-color: transparent;\n",
              "      border-left-color: var(--fill-color);\n",
              "      border-top-color: var(--fill-color);\n",
              "    }\n",
              "    30% {\n",
              "      border-color: transparent;\n",
              "      border-left-color: var(--fill-color);\n",
              "      border-top-color: var(--fill-color);\n",
              "      border-right-color: var(--fill-color);\n",
              "    }\n",
              "    40% {\n",
              "      border-color: transparent;\n",
              "      border-right-color: var(--fill-color);\n",
              "      border-top-color: var(--fill-color);\n",
              "    }\n",
              "    60% {\n",
              "      border-color: transparent;\n",
              "      border-right-color: var(--fill-color);\n",
              "    }\n",
              "    80% {\n",
              "      border-color: transparent;\n",
              "      border-right-color: var(--fill-color);\n",
              "      border-bottom-color: var(--fill-color);\n",
              "    }\n",
              "    90% {\n",
              "      border-color: transparent;\n",
              "      border-bottom-color: var(--fill-color);\n",
              "    }\n",
              "  }\n",
              "</style>\n",
              "\n",
              "  <script>\n",
              "    async function quickchart(key) {\n",
              "      const quickchartButtonEl =\n",
              "        document.querySelector('#' + key + ' button');\n",
              "      quickchartButtonEl.disabled = true;  // To prevent multiple clicks.\n",
              "      quickchartButtonEl.classList.add('colab-df-spinner');\n",
              "      try {\n",
              "        const charts = await google.colab.kernel.invokeFunction(\n",
              "            'suggestCharts', [key], {});\n",
              "      } catch (error) {\n",
              "        console.error('Error during call to suggestCharts:', error);\n",
              "      }\n",
              "      quickchartButtonEl.classList.remove('colab-df-spinner');\n",
              "      quickchartButtonEl.classList.add('colab-df-quickchart-complete');\n",
              "    }\n",
              "    (() => {\n",
              "      let quickchartButtonEl =\n",
              "        document.querySelector('#df-85cddc79-fd0b-45c7-95e1-c3f2e39a05fc button');\n",
              "      quickchartButtonEl.style.display =\n",
              "        google.colab.kernel.accessAllowed ? 'block' : 'none';\n",
              "    })();\n",
              "  </script>\n",
              "</div>\n",
              "    </div>\n",
              "  </div>\n"
            ],
            "application/vnd.google.colaboratory.intrinsic+json": {
              "type": "dataframe",
              "summary": "{\n  \"name\": \"df[df['RecoveryTime']==0] #Filtering data frame to display observations with recovery time of 0\",\n  \"rows\": 2,\n  \"fields\": [\n    {\n      \"column\": \"Age\",\n      \"properties\": {\n        \"dtype\": \"number\",\n        \"std\": 23,\n        \"min\": 21,\n        \"max\": 54,\n        \"num_unique_values\": 2,\n        \"samples\": [\n          54,\n          21\n        ],\n        \"semantic_type\": \"\",\n        \"description\": \"\"\n      }\n    },\n    {\n      \"column\": \"Gender\",\n      \"properties\": {\n        \"dtype\": \"string\",\n        \"num_unique_values\": 1,\n        \"samples\": [\n          \"Female\"\n        ],\n        \"semantic_type\": \"\",\n        \"description\": \"\"\n      }\n    },\n    {\n      \"column\": \"Condition\",\n      \"properties\": {\n        \"dtype\": \"string\",\n        \"num_unique_values\": 1,\n        \"samples\": [\n          \"Fever\"\n        ],\n        \"semantic_type\": \"\",\n        \"description\": \"\"\n      }\n    },\n    {\n      \"column\": \"Treatment\",\n      \"properties\": {\n        \"dtype\": \"string\",\n        \"num_unique_values\": 2,\n        \"samples\": [\n          \"Rest\"\n        ],\n        \"semantic_type\": \"\",\n        \"description\": \"\"\n      }\n    },\n    {\n      \"column\": \"TreatmentCost\",\n      \"properties\": {\n        \"dtype\": \"number\",\n        \"std\": 82.09509729575817,\n        \"min\": 149.41,\n        \"max\": 265.51,\n        \"num_unique_values\": 2,\n        \"samples\": [\n          149.41\n        ],\n        \"semantic_type\": \"\",\n        \"description\": \"\"\n      }\n    },\n    {\n      \"column\": \"RecoveryTime\",\n      \"properties\": {\n        \"dtype\": \"number\",\n        \"std\": 0,\n        \"min\": 0,\n        \"max\": 0,\n        \"num_unique_values\": 1,\n        \"samples\": [\n          0\n        ],\n        \"semantic_type\": \"\",\n        \"description\": \"\"\n      }\n    },\n    {\n      \"column\": \"Smoking\",\n      \"properties\": {\n        \"dtype\": \"string\",\n        \"num_unique_values\": 1,\n        \"samples\": [\n          \"Never\"\n        ],\n        \"semantic_type\": \"\",\n        \"description\": \"\"\n      }\n    },\n    {\n      \"column\": \"Drinking\",\n      \"properties\": {\n        \"dtype\": \"string\",\n        \"num_unique_values\": 1,\n        \"samples\": [\n          \"Current\"\n        ],\n        \"semantic_type\": \"\",\n        \"description\": \"\"\n      }\n    },\n    {\n      \"column\": \"Exercise\",\n      \"properties\": {\n        \"dtype\": \"string\",\n        \"num_unique_values\": 1,\n        \"samples\": [\n          \"High\"\n        ],\n        \"semantic_type\": \"\",\n        \"description\": \"\"\n      }\n    }\n  ]\n}"
            }
          },
          "metadata": {},
          "execution_count": 5
        }
      ],
      "source": [
        "df[df['RecoveryTime']==0] #Filtering data frame to display observations with recovery time of 0"
      ]
    },
    {
      "cell_type": "markdown",
      "metadata": {
        "id": "9sUJk_5SYM9l"
      },
      "source": [
        "*Two patients had a recovery time of 0, which is unexpected and does not make sense. Perhaps the patients were in the hospital and left on the day they arrived?*\n",
        "\n",
        "**However, treatment costs are unusually high (upon comparing with other treatment costs for different conditions) even when considering this as a plausible scenario, so we will choose to cut these out.**\n",
        "\n",
        "*We have therefore managed to use the variable treatment cost to our advantage, despite not exploring it*"
      ]
    },
    {
      "cell_type": "code",
      "execution_count": null,
      "metadata": {
        "colab": {
          "base_uri": "https://localhost:8080/"
        },
        "id": "ncNbAeV9GLgx",
        "outputId": "b82a0a0b-8bae-48f0-ec4e-e827983fe4cf"
      },
      "outputs": [
        {
          "output_type": "execute_result",
          "data": {
            "text/plain": [
              "(998, 9)"
            ]
          },
          "metadata": {},
          "execution_count": 6
        }
      ],
      "source": [
        "df = df[~(df['RecoveryTime']==0)] #Removing observations with a recovery time of 0 days\n",
        "df.shape"
      ]
    },
    {
      "cell_type": "markdown",
      "metadata": {
        "id": "FG4Hqqgk2KXS"
      },
      "source": [
        "From 1000 rows to 998, two rows have been removed, therefore df has now been updated"
      ]
    },
    {
      "cell_type": "markdown",
      "source": [
        "## Checking for duplicates / NAs"
      ],
      "metadata": {
        "id": "h1cZ4bU782du"
      }
    },
    {
      "cell_type": "code",
      "execution_count": null,
      "metadata": {
        "colab": {
          "base_uri": "https://localhost:8080/"
        },
        "id": "5J_g26KWYpeE",
        "outputId": "e29da80c-2bcc-4b5f-98f4-f069656a45fe"
      },
      "outputs": [
        {
          "output_type": "execute_result",
          "data": {
            "text/plain": [
              "(998, 9)"
            ]
          },
          "metadata": {},
          "execution_count": 7
        }
      ],
      "source": [
        "df.drop_duplicates(inplace=True) #Removes duplicate rows\n",
        "df.shape"
      ]
    },
    {
      "cell_type": "markdown",
      "metadata": {
        "id": "k9HmfMyoY1vq"
      },
      "source": [
        "*Number of rows remains unchanged, therefore there are no duplicate rows*"
      ]
    },
    {
      "cell_type": "code",
      "execution_count": null,
      "metadata": {
        "colab": {
          "base_uri": "https://localhost:8080/"
        },
        "id": "bS55SUb7Y_KF",
        "outputId": "424b04ff-d6d0-4c3e-8e90-b247926d3cbe"
      },
      "outputs": [
        {
          "output_type": "execute_result",
          "data": {
            "text/plain": [
              "Age    Gender  Condition  Treatment  TreatmentCost  RecoveryTime  Smoking  Drinking  Exercise\n",
              "False  False   False      False      False          False         False    False     False       998\n",
              "Name: count, dtype: int64"
            ]
          },
          "metadata": {},
          "execution_count": 8
        }
      ],
      "source": [
        "df.isna().value_counts() #Checking for NAs"
      ]
    },
    {
      "cell_type": "markdown",
      "metadata": {
        "id": "VbAoKETDb52z"
      },
      "source": [
        "All false, therefore there were no missing values in the whole data set"
      ]
    },
    {
      "cell_type": "markdown",
      "metadata": {
        "id": "eG4hujWK-nRa"
      },
      "source": [
        "## Patients by condition"
      ]
    },
    {
      "cell_type": "markdown",
      "metadata": {
        "id": "6jV5J3qb-pkb"
      },
      "source": [
        "As 'Condition' is a key variable in our analyses, we will create filtered data frames by condition, ready for analysis:"
      ]
    },
    {
      "cell_type": "code",
      "execution_count": null,
      "metadata": {
        "id": "3kEoE59j-wUX"
      },
      "outputs": [],
      "source": [
        "heart_disease_patients = df[df['Condition']=='Heart Disease']\n",
        "injury_patients = df[df['Condition']=='Injury']\n",
        "diabetes_patients = df[df['Condition']=='Diabetes']\n",
        "fever_patients = df[df['Condition']=='Fever']\n",
        "cold_patients = df[df['Condition']=='Cold']\n",
        "arthritis_patients = df[df['Condition']=='Arthritis']"
      ]
    },
    {
      "cell_type": "markdown",
      "metadata": {
        "id": "-UUPT5dx2-DL"
      },
      "source": [
        "# **Initial Exploratory Data Analysis**"
      ]
    },
    {
      "cell_type": "markdown",
      "metadata": {
        "id": "P8By-TY23YpD"
      },
      "source": [
        "## Descriptive Statistics"
      ]
    },
    {
      "cell_type": "code",
      "execution_count": null,
      "metadata": {
        "colab": {
          "base_uri": "https://localhost:8080/",
          "height": 300
        },
        "id": "3JKzmnKw3X4k",
        "outputId": "c4fa5511-faff-42c0-b51f-25f6996b6432"
      },
      "outputs": [
        {
          "output_type": "execute_result",
          "data": {
            "text/plain": [
              "              Age  TreatmentCost  RecoveryTime\n",
              "count  998.000000     998.000000    998.000000\n",
              "mean    46.806613     551.510291     25.849699\n",
              "std     17.565115    1210.892190     22.507448\n",
              "min     18.000000      10.060000      1.000000\n",
              "25%     32.000000     114.062500      9.000000\n",
              "50%     48.000000     249.750000     18.000000\n",
              "75%     61.000000     554.147500     38.000000\n",
              "max     90.000000   28060.930000    130.000000"
            ],
            "text/html": [
              "\n",
              "  <div id=\"df-636e4f70-4fd6-44ed-93ae-4f2372d2a9eb\" class=\"colab-df-container\">\n",
              "    <div>\n",
              "<style scoped>\n",
              "    .dataframe tbody tr th:only-of-type {\n",
              "        vertical-align: middle;\n",
              "    }\n",
              "\n",
              "    .dataframe tbody tr th {\n",
              "        vertical-align: top;\n",
              "    }\n",
              "\n",
              "    .dataframe thead th {\n",
              "        text-align: right;\n",
              "    }\n",
              "</style>\n",
              "<table border=\"1\" class=\"dataframe\">\n",
              "  <thead>\n",
              "    <tr style=\"text-align: right;\">\n",
              "      <th></th>\n",
              "      <th>Age</th>\n",
              "      <th>TreatmentCost</th>\n",
              "      <th>RecoveryTime</th>\n",
              "    </tr>\n",
              "  </thead>\n",
              "  <tbody>\n",
              "    <tr>\n",
              "      <th>count</th>\n",
              "      <td>998.000000</td>\n",
              "      <td>998.000000</td>\n",
              "      <td>998.000000</td>\n",
              "    </tr>\n",
              "    <tr>\n",
              "      <th>mean</th>\n",
              "      <td>46.806613</td>\n",
              "      <td>551.510291</td>\n",
              "      <td>25.849699</td>\n",
              "    </tr>\n",
              "    <tr>\n",
              "      <th>std</th>\n",
              "      <td>17.565115</td>\n",
              "      <td>1210.892190</td>\n",
              "      <td>22.507448</td>\n",
              "    </tr>\n",
              "    <tr>\n",
              "      <th>min</th>\n",
              "      <td>18.000000</td>\n",
              "      <td>10.060000</td>\n",
              "      <td>1.000000</td>\n",
              "    </tr>\n",
              "    <tr>\n",
              "      <th>25%</th>\n",
              "      <td>32.000000</td>\n",
              "      <td>114.062500</td>\n",
              "      <td>9.000000</td>\n",
              "    </tr>\n",
              "    <tr>\n",
              "      <th>50%</th>\n",
              "      <td>48.000000</td>\n",
              "      <td>249.750000</td>\n",
              "      <td>18.000000</td>\n",
              "    </tr>\n",
              "    <tr>\n",
              "      <th>75%</th>\n",
              "      <td>61.000000</td>\n",
              "      <td>554.147500</td>\n",
              "      <td>38.000000</td>\n",
              "    </tr>\n",
              "    <tr>\n",
              "      <th>max</th>\n",
              "      <td>90.000000</td>\n",
              "      <td>28060.930000</td>\n",
              "      <td>130.000000</td>\n",
              "    </tr>\n",
              "  </tbody>\n",
              "</table>\n",
              "</div>\n",
              "    <div class=\"colab-df-buttons\">\n",
              "\n",
              "  <div class=\"colab-df-container\">\n",
              "    <button class=\"colab-df-convert\" onclick=\"convertToInteractive('df-636e4f70-4fd6-44ed-93ae-4f2372d2a9eb')\"\n",
              "            title=\"Convert this dataframe to an interactive table.\"\n",
              "            style=\"display:none;\">\n",
              "\n",
              "  <svg xmlns=\"http://www.w3.org/2000/svg\" height=\"24px\" viewBox=\"0 -960 960 960\">\n",
              "    <path d=\"M120-120v-720h720v720H120Zm60-500h600v-160H180v160Zm220 220h160v-160H400v160Zm0 220h160v-160H400v160ZM180-400h160v-160H180v160Zm440 0h160v-160H620v160ZM180-180h160v-160H180v160Zm440 0h160v-160H620v160Z\"/>\n",
              "  </svg>\n",
              "    </button>\n",
              "\n",
              "  <style>\n",
              "    .colab-df-container {\n",
              "      display:flex;\n",
              "      gap: 12px;\n",
              "    }\n",
              "\n",
              "    .colab-df-convert {\n",
              "      background-color: #E8F0FE;\n",
              "      border: none;\n",
              "      border-radius: 50%;\n",
              "      cursor: pointer;\n",
              "      display: none;\n",
              "      fill: #1967D2;\n",
              "      height: 32px;\n",
              "      padding: 0 0 0 0;\n",
              "      width: 32px;\n",
              "    }\n",
              "\n",
              "    .colab-df-convert:hover {\n",
              "      background-color: #E2EBFA;\n",
              "      box-shadow: 0px 1px 2px rgba(60, 64, 67, 0.3), 0px 1px 3px 1px rgba(60, 64, 67, 0.15);\n",
              "      fill: #174EA6;\n",
              "    }\n",
              "\n",
              "    .colab-df-buttons div {\n",
              "      margin-bottom: 4px;\n",
              "    }\n",
              "\n",
              "    [theme=dark] .colab-df-convert {\n",
              "      background-color: #3B4455;\n",
              "      fill: #D2E3FC;\n",
              "    }\n",
              "\n",
              "    [theme=dark] .colab-df-convert:hover {\n",
              "      background-color: #434B5C;\n",
              "      box-shadow: 0px 1px 3px 1px rgba(0, 0, 0, 0.15);\n",
              "      filter: drop-shadow(0px 1px 2px rgba(0, 0, 0, 0.3));\n",
              "      fill: #FFFFFF;\n",
              "    }\n",
              "  </style>\n",
              "\n",
              "    <script>\n",
              "      const buttonEl =\n",
              "        document.querySelector('#df-636e4f70-4fd6-44ed-93ae-4f2372d2a9eb button.colab-df-convert');\n",
              "      buttonEl.style.display =\n",
              "        google.colab.kernel.accessAllowed ? 'block' : 'none';\n",
              "\n",
              "      async function convertToInteractive(key) {\n",
              "        const element = document.querySelector('#df-636e4f70-4fd6-44ed-93ae-4f2372d2a9eb');\n",
              "        const dataTable =\n",
              "          await google.colab.kernel.invokeFunction('convertToInteractive',\n",
              "                                                    [key], {});\n",
              "        if (!dataTable) return;\n",
              "\n",
              "        const docLinkHtml = 'Like what you see? Visit the ' +\n",
              "          '<a target=\"_blank\" href=https://colab.research.google.com/notebooks/data_table.ipynb>data table notebook</a>'\n",
              "          + ' to learn more about interactive tables.';\n",
              "        element.innerHTML = '';\n",
              "        dataTable['output_type'] = 'display_data';\n",
              "        await google.colab.output.renderOutput(dataTable, element);\n",
              "        const docLink = document.createElement('div');\n",
              "        docLink.innerHTML = docLinkHtml;\n",
              "        element.appendChild(docLink);\n",
              "      }\n",
              "    </script>\n",
              "  </div>\n",
              "\n",
              "\n",
              "<div id=\"df-09514ee6-2596-4779-82cc-8533ad716630\">\n",
              "  <button class=\"colab-df-quickchart\" onclick=\"quickchart('df-09514ee6-2596-4779-82cc-8533ad716630')\"\n",
              "            title=\"Suggest charts\"\n",
              "            style=\"display:none;\">\n",
              "\n",
              "<svg xmlns=\"http://www.w3.org/2000/svg\" height=\"24px\"viewBox=\"0 0 24 24\"\n",
              "     width=\"24px\">\n",
              "    <g>\n",
              "        <path d=\"M19 3H5c-1.1 0-2 .9-2 2v14c0 1.1.9 2 2 2h14c1.1 0 2-.9 2-2V5c0-1.1-.9-2-2-2zM9 17H7v-7h2v7zm4 0h-2V7h2v10zm4 0h-2v-4h2v4z\"/>\n",
              "    </g>\n",
              "</svg>\n",
              "  </button>\n",
              "\n",
              "<style>\n",
              "  .colab-df-quickchart {\n",
              "      --bg-color: #E8F0FE;\n",
              "      --fill-color: #1967D2;\n",
              "      --hover-bg-color: #E2EBFA;\n",
              "      --hover-fill-color: #174EA6;\n",
              "      --disabled-fill-color: #AAA;\n",
              "      --disabled-bg-color: #DDD;\n",
              "  }\n",
              "\n",
              "  [theme=dark] .colab-df-quickchart {\n",
              "      --bg-color: #3B4455;\n",
              "      --fill-color: #D2E3FC;\n",
              "      --hover-bg-color: #434B5C;\n",
              "      --hover-fill-color: #FFFFFF;\n",
              "      --disabled-bg-color: #3B4455;\n",
              "      --disabled-fill-color: #666;\n",
              "  }\n",
              "\n",
              "  .colab-df-quickchart {\n",
              "    background-color: var(--bg-color);\n",
              "    border: none;\n",
              "    border-radius: 50%;\n",
              "    cursor: pointer;\n",
              "    display: none;\n",
              "    fill: var(--fill-color);\n",
              "    height: 32px;\n",
              "    padding: 0;\n",
              "    width: 32px;\n",
              "  }\n",
              "\n",
              "  .colab-df-quickchart:hover {\n",
              "    background-color: var(--hover-bg-color);\n",
              "    box-shadow: 0 1px 2px rgba(60, 64, 67, 0.3), 0 1px 3px 1px rgba(60, 64, 67, 0.15);\n",
              "    fill: var(--button-hover-fill-color);\n",
              "  }\n",
              "\n",
              "  .colab-df-quickchart-complete:disabled,\n",
              "  .colab-df-quickchart-complete:disabled:hover {\n",
              "    background-color: var(--disabled-bg-color);\n",
              "    fill: var(--disabled-fill-color);\n",
              "    box-shadow: none;\n",
              "  }\n",
              "\n",
              "  .colab-df-spinner {\n",
              "    border: 2px solid var(--fill-color);\n",
              "    border-color: transparent;\n",
              "    border-bottom-color: var(--fill-color);\n",
              "    animation:\n",
              "      spin 1s steps(1) infinite;\n",
              "  }\n",
              "\n",
              "  @keyframes spin {\n",
              "    0% {\n",
              "      border-color: transparent;\n",
              "      border-bottom-color: var(--fill-color);\n",
              "      border-left-color: var(--fill-color);\n",
              "    }\n",
              "    20% {\n",
              "      border-color: transparent;\n",
              "      border-left-color: var(--fill-color);\n",
              "      border-top-color: var(--fill-color);\n",
              "    }\n",
              "    30% {\n",
              "      border-color: transparent;\n",
              "      border-left-color: var(--fill-color);\n",
              "      border-top-color: var(--fill-color);\n",
              "      border-right-color: var(--fill-color);\n",
              "    }\n",
              "    40% {\n",
              "      border-color: transparent;\n",
              "      border-right-color: var(--fill-color);\n",
              "      border-top-color: var(--fill-color);\n",
              "    }\n",
              "    60% {\n",
              "      border-color: transparent;\n",
              "      border-right-color: var(--fill-color);\n",
              "    }\n",
              "    80% {\n",
              "      border-color: transparent;\n",
              "      border-right-color: var(--fill-color);\n",
              "      border-bottom-color: var(--fill-color);\n",
              "    }\n",
              "    90% {\n",
              "      border-color: transparent;\n",
              "      border-bottom-color: var(--fill-color);\n",
              "    }\n",
              "  }\n",
              "</style>\n",
              "\n",
              "  <script>\n",
              "    async function quickchart(key) {\n",
              "      const quickchartButtonEl =\n",
              "        document.querySelector('#' + key + ' button');\n",
              "      quickchartButtonEl.disabled = true;  // To prevent multiple clicks.\n",
              "      quickchartButtonEl.classList.add('colab-df-spinner');\n",
              "      try {\n",
              "        const charts = await google.colab.kernel.invokeFunction(\n",
              "            'suggestCharts', [key], {});\n",
              "      } catch (error) {\n",
              "        console.error('Error during call to suggestCharts:', error);\n",
              "      }\n",
              "      quickchartButtonEl.classList.remove('colab-df-spinner');\n",
              "      quickchartButtonEl.classList.add('colab-df-quickchart-complete');\n",
              "    }\n",
              "    (() => {\n",
              "      let quickchartButtonEl =\n",
              "        document.querySelector('#df-09514ee6-2596-4779-82cc-8533ad716630 button');\n",
              "      quickchartButtonEl.style.display =\n",
              "        google.colab.kernel.accessAllowed ? 'block' : 'none';\n",
              "    })();\n",
              "  </script>\n",
              "</div>\n",
              "    </div>\n",
              "  </div>\n"
            ],
            "application/vnd.google.colaboratory.intrinsic+json": {
              "type": "dataframe",
              "variable_name": "summary",
              "summary": "{\n  \"name\": \"summary\",\n  \"rows\": 8,\n  \"fields\": [\n    {\n      \"column\": \"Age\",\n      \"properties\": {\n        \"dtype\": \"number\",\n        \"std\": 337.8533950894485,\n        \"min\": 17.565115319326804,\n        \"max\": 998.0,\n        \"num_unique_values\": 8,\n        \"samples\": [\n          46.8066132264529,\n          48.0,\n          998.0\n        ],\n        \"semantic_type\": \"\",\n        \"description\": \"\"\n      }\n    },\n    {\n      \"column\": \"TreatmentCost\",\n      \"properties\": {\n        \"dtype\": \"number\",\n        \"std\": 9743.584798397638,\n        \"min\": 10.06,\n        \"max\": 28060.93,\n        \"num_unique_values\": 8,\n        \"samples\": [\n          551.5102905811624,\n          249.75,\n          998.0\n        ],\n        \"semantic_type\": \"\",\n        \"description\": \"\"\n      }\n    },\n    {\n      \"column\": \"RecoveryTime\",\n      \"properties\": {\n        \"dtype\": \"number\",\n        \"std\": 342.8863580988322,\n        \"min\": 1.0,\n        \"max\": 998.0,\n        \"num_unique_values\": 8,\n        \"samples\": [\n          25.849699398797597,\n          18.0,\n          998.0\n        ],\n        \"semantic_type\": \"\",\n        \"description\": \"\"\n      }\n    }\n  ]\n}"
            }
          },
          "metadata": {},
          "execution_count": 10
        }
      ],
      "source": [
        "summary = df.describe() #Generates descriptive statistics\n",
        "summary"
      ]
    },
    {
      "cell_type": "markdown",
      "metadata": {
        "id": "MSkGYYjiF_dX"
      },
      "source": [
        "## Correlations"
      ]
    },
    {
      "cell_type": "code",
      "execution_count": null,
      "metadata": {
        "colab": {
          "base_uri": "https://localhost:8080/",
          "height": 143
        },
        "id": "w-dhlay4GBAl",
        "outputId": "6521f6e4-b32e-479b-e316-55e533bc75b6"
      },
      "outputs": [
        {
          "output_type": "execute_result",
          "data": {
            "text/plain": [
              "                    Age  TreatmentCost  RecoveryTime\n",
              "Age            1.000000       0.183765      0.508192\n",
              "TreatmentCost  0.183765       1.000000      0.275240\n",
              "RecoveryTime   0.508192       0.275240      1.000000"
            ],
            "text/html": [
              "\n",
              "  <div id=\"df-4db7ffba-c941-47f2-9782-734196cc76a7\" class=\"colab-df-container\">\n",
              "    <div>\n",
              "<style scoped>\n",
              "    .dataframe tbody tr th:only-of-type {\n",
              "        vertical-align: middle;\n",
              "    }\n",
              "\n",
              "    .dataframe tbody tr th {\n",
              "        vertical-align: top;\n",
              "    }\n",
              "\n",
              "    .dataframe thead th {\n",
              "        text-align: right;\n",
              "    }\n",
              "</style>\n",
              "<table border=\"1\" class=\"dataframe\">\n",
              "  <thead>\n",
              "    <tr style=\"text-align: right;\">\n",
              "      <th></th>\n",
              "      <th>Age</th>\n",
              "      <th>TreatmentCost</th>\n",
              "      <th>RecoveryTime</th>\n",
              "    </tr>\n",
              "  </thead>\n",
              "  <tbody>\n",
              "    <tr>\n",
              "      <th>Age</th>\n",
              "      <td>1.000000</td>\n",
              "      <td>0.183765</td>\n",
              "      <td>0.508192</td>\n",
              "    </tr>\n",
              "    <tr>\n",
              "      <th>TreatmentCost</th>\n",
              "      <td>0.183765</td>\n",
              "      <td>1.000000</td>\n",
              "      <td>0.275240</td>\n",
              "    </tr>\n",
              "    <tr>\n",
              "      <th>RecoveryTime</th>\n",
              "      <td>0.508192</td>\n",
              "      <td>0.275240</td>\n",
              "      <td>1.000000</td>\n",
              "    </tr>\n",
              "  </tbody>\n",
              "</table>\n",
              "</div>\n",
              "    <div class=\"colab-df-buttons\">\n",
              "\n",
              "  <div class=\"colab-df-container\">\n",
              "    <button class=\"colab-df-convert\" onclick=\"convertToInteractive('df-4db7ffba-c941-47f2-9782-734196cc76a7')\"\n",
              "            title=\"Convert this dataframe to an interactive table.\"\n",
              "            style=\"display:none;\">\n",
              "\n",
              "  <svg xmlns=\"http://www.w3.org/2000/svg\" height=\"24px\" viewBox=\"0 -960 960 960\">\n",
              "    <path d=\"M120-120v-720h720v720H120Zm60-500h600v-160H180v160Zm220 220h160v-160H400v160Zm0 220h160v-160H400v160ZM180-400h160v-160H180v160Zm440 0h160v-160H620v160ZM180-180h160v-160H180v160Zm440 0h160v-160H620v160Z\"/>\n",
              "  </svg>\n",
              "    </button>\n",
              "\n",
              "  <style>\n",
              "    .colab-df-container {\n",
              "      display:flex;\n",
              "      gap: 12px;\n",
              "    }\n",
              "\n",
              "    .colab-df-convert {\n",
              "      background-color: #E8F0FE;\n",
              "      border: none;\n",
              "      border-radius: 50%;\n",
              "      cursor: pointer;\n",
              "      display: none;\n",
              "      fill: #1967D2;\n",
              "      height: 32px;\n",
              "      padding: 0 0 0 0;\n",
              "      width: 32px;\n",
              "    }\n",
              "\n",
              "    .colab-df-convert:hover {\n",
              "      background-color: #E2EBFA;\n",
              "      box-shadow: 0px 1px 2px rgba(60, 64, 67, 0.3), 0px 1px 3px 1px rgba(60, 64, 67, 0.15);\n",
              "      fill: #174EA6;\n",
              "    }\n",
              "\n",
              "    .colab-df-buttons div {\n",
              "      margin-bottom: 4px;\n",
              "    }\n",
              "\n",
              "    [theme=dark] .colab-df-convert {\n",
              "      background-color: #3B4455;\n",
              "      fill: #D2E3FC;\n",
              "    }\n",
              "\n",
              "    [theme=dark] .colab-df-convert:hover {\n",
              "      background-color: #434B5C;\n",
              "      box-shadow: 0px 1px 3px 1px rgba(0, 0, 0, 0.15);\n",
              "      filter: drop-shadow(0px 1px 2px rgba(0, 0, 0, 0.3));\n",
              "      fill: #FFFFFF;\n",
              "    }\n",
              "  </style>\n",
              "\n",
              "    <script>\n",
              "      const buttonEl =\n",
              "        document.querySelector('#df-4db7ffba-c941-47f2-9782-734196cc76a7 button.colab-df-convert');\n",
              "      buttonEl.style.display =\n",
              "        google.colab.kernel.accessAllowed ? 'block' : 'none';\n",
              "\n",
              "      async function convertToInteractive(key) {\n",
              "        const element = document.querySelector('#df-4db7ffba-c941-47f2-9782-734196cc76a7');\n",
              "        const dataTable =\n",
              "          await google.colab.kernel.invokeFunction('convertToInteractive',\n",
              "                                                    [key], {});\n",
              "        if (!dataTable) return;\n",
              "\n",
              "        const docLinkHtml = 'Like what you see? Visit the ' +\n",
              "          '<a target=\"_blank\" href=https://colab.research.google.com/notebooks/data_table.ipynb>data table notebook</a>'\n",
              "          + ' to learn more about interactive tables.';\n",
              "        element.innerHTML = '';\n",
              "        dataTable['output_type'] = 'display_data';\n",
              "        await google.colab.output.renderOutput(dataTable, element);\n",
              "        const docLink = document.createElement('div');\n",
              "        docLink.innerHTML = docLinkHtml;\n",
              "        element.appendChild(docLink);\n",
              "      }\n",
              "    </script>\n",
              "  </div>\n",
              "\n",
              "\n",
              "<div id=\"df-63c4b9aa-d12a-4328-9d1e-e7bd4a89bedd\">\n",
              "  <button class=\"colab-df-quickchart\" onclick=\"quickchart('df-63c4b9aa-d12a-4328-9d1e-e7bd4a89bedd')\"\n",
              "            title=\"Suggest charts\"\n",
              "            style=\"display:none;\">\n",
              "\n",
              "<svg xmlns=\"http://www.w3.org/2000/svg\" height=\"24px\"viewBox=\"0 0 24 24\"\n",
              "     width=\"24px\">\n",
              "    <g>\n",
              "        <path d=\"M19 3H5c-1.1 0-2 .9-2 2v14c0 1.1.9 2 2 2h14c1.1 0 2-.9 2-2V5c0-1.1-.9-2-2-2zM9 17H7v-7h2v7zm4 0h-2V7h2v10zm4 0h-2v-4h2v4z\"/>\n",
              "    </g>\n",
              "</svg>\n",
              "  </button>\n",
              "\n",
              "<style>\n",
              "  .colab-df-quickchart {\n",
              "      --bg-color: #E8F0FE;\n",
              "      --fill-color: #1967D2;\n",
              "      --hover-bg-color: #E2EBFA;\n",
              "      --hover-fill-color: #174EA6;\n",
              "      --disabled-fill-color: #AAA;\n",
              "      --disabled-bg-color: #DDD;\n",
              "  }\n",
              "\n",
              "  [theme=dark] .colab-df-quickchart {\n",
              "      --bg-color: #3B4455;\n",
              "      --fill-color: #D2E3FC;\n",
              "      --hover-bg-color: #434B5C;\n",
              "      --hover-fill-color: #FFFFFF;\n",
              "      --disabled-bg-color: #3B4455;\n",
              "      --disabled-fill-color: #666;\n",
              "  }\n",
              "\n",
              "  .colab-df-quickchart {\n",
              "    background-color: var(--bg-color);\n",
              "    border: none;\n",
              "    border-radius: 50%;\n",
              "    cursor: pointer;\n",
              "    display: none;\n",
              "    fill: var(--fill-color);\n",
              "    height: 32px;\n",
              "    padding: 0;\n",
              "    width: 32px;\n",
              "  }\n",
              "\n",
              "  .colab-df-quickchart:hover {\n",
              "    background-color: var(--hover-bg-color);\n",
              "    box-shadow: 0 1px 2px rgba(60, 64, 67, 0.3), 0 1px 3px 1px rgba(60, 64, 67, 0.15);\n",
              "    fill: var(--button-hover-fill-color);\n",
              "  }\n",
              "\n",
              "  .colab-df-quickchart-complete:disabled,\n",
              "  .colab-df-quickchart-complete:disabled:hover {\n",
              "    background-color: var(--disabled-bg-color);\n",
              "    fill: var(--disabled-fill-color);\n",
              "    box-shadow: none;\n",
              "  }\n",
              "\n",
              "  .colab-df-spinner {\n",
              "    border: 2px solid var(--fill-color);\n",
              "    border-color: transparent;\n",
              "    border-bottom-color: var(--fill-color);\n",
              "    animation:\n",
              "      spin 1s steps(1) infinite;\n",
              "  }\n",
              "\n",
              "  @keyframes spin {\n",
              "    0% {\n",
              "      border-color: transparent;\n",
              "      border-bottom-color: var(--fill-color);\n",
              "      border-left-color: var(--fill-color);\n",
              "    }\n",
              "    20% {\n",
              "      border-color: transparent;\n",
              "      border-left-color: var(--fill-color);\n",
              "      border-top-color: var(--fill-color);\n",
              "    }\n",
              "    30% {\n",
              "      border-color: transparent;\n",
              "      border-left-color: var(--fill-color);\n",
              "      border-top-color: var(--fill-color);\n",
              "      border-right-color: var(--fill-color);\n",
              "    }\n",
              "    40% {\n",
              "      border-color: transparent;\n",
              "      border-right-color: var(--fill-color);\n",
              "      border-top-color: var(--fill-color);\n",
              "    }\n",
              "    60% {\n",
              "      border-color: transparent;\n",
              "      border-right-color: var(--fill-color);\n",
              "    }\n",
              "    80% {\n",
              "      border-color: transparent;\n",
              "      border-right-color: var(--fill-color);\n",
              "      border-bottom-color: var(--fill-color);\n",
              "    }\n",
              "    90% {\n",
              "      border-color: transparent;\n",
              "      border-bottom-color: var(--fill-color);\n",
              "    }\n",
              "  }\n",
              "</style>\n",
              "\n",
              "  <script>\n",
              "    async function quickchart(key) {\n",
              "      const quickchartButtonEl =\n",
              "        document.querySelector('#' + key + ' button');\n",
              "      quickchartButtonEl.disabled = true;  // To prevent multiple clicks.\n",
              "      quickchartButtonEl.classList.add('colab-df-spinner');\n",
              "      try {\n",
              "        const charts = await google.colab.kernel.invokeFunction(\n",
              "            'suggestCharts', [key], {});\n",
              "      } catch (error) {\n",
              "        console.error('Error during call to suggestCharts:', error);\n",
              "      }\n",
              "      quickchartButtonEl.classList.remove('colab-df-spinner');\n",
              "      quickchartButtonEl.classList.add('colab-df-quickchart-complete');\n",
              "    }\n",
              "    (() => {\n",
              "      let quickchartButtonEl =\n",
              "        document.querySelector('#df-63c4b9aa-d12a-4328-9d1e-e7bd4a89bedd button');\n",
              "      quickchartButtonEl.style.display =\n",
              "        google.colab.kernel.accessAllowed ? 'block' : 'none';\n",
              "    })();\n",
              "  </script>\n",
              "</div>\n",
              "    </div>\n",
              "  </div>\n"
            ],
            "application/vnd.google.colaboratory.intrinsic+json": {
              "type": "dataframe",
              "variable_name": "correlations",
              "summary": "{\n  \"name\": \"correlations\",\n  \"rows\": 3,\n  \"fields\": [\n    {\n      \"column\": \"Age\",\n      \"properties\": {\n        \"dtype\": \"number\",\n        \"std\": 0.4109678406475056,\n        \"min\": 0.183765037736371,\n        \"max\": 1.0,\n        \"num_unique_values\": 3,\n        \"samples\": [\n          1.0,\n          0.183765037736371,\n          0.5081922391262127\n        ],\n        \"semantic_type\": \"\",\n        \"description\": \"\"\n      }\n    },\n    {\n      \"column\": \"TreatmentCost\",\n      \"properties\": {\n        \"dtype\": \"number\",\n        \"std\": 0.44719191195842667,\n        \"min\": 0.183765037736371,\n        \"max\": 1.0,\n        \"num_unique_values\": 3,\n        \"samples\": [\n          0.183765037736371,\n          1.0,\n          0.275240476260182\n        ],\n        \"semantic_type\": \"\",\n        \"description\": \"\"\n      }\n    },\n    {\n      \"column\": \"RecoveryTime\",\n      \"properties\": {\n        \"dtype\": \"number\",\n        \"std\": 0.37000400104360304,\n        \"min\": 0.275240476260182,\n        \"max\": 1.0,\n        \"num_unique_values\": 3,\n        \"samples\": [\n          0.5081922391262127,\n          0.275240476260182,\n          1.0\n        ],\n        \"semantic_type\": \"\",\n        \"description\": \"\"\n      }\n    }\n  ]\n}"
            }
          },
          "metadata": {},
          "execution_count": 11
        }
      ],
      "source": [
        "correlations = df.corr(numeric_only = True) #Computes correlations coefficients. 'numeric_only' prevents an error in trying to correlate qualitative data\n",
        "correlations"
      ]
    },
    {
      "cell_type": "markdown",
      "metadata": {
        "id": "fkKKv2o7GXR-"
      },
      "source": [
        "Evidently, Age and Recovery Time are closely correlated, this relationship will be explored further in our analyses"
      ]
    },
    {
      "cell_type": "markdown",
      "metadata": {
        "id": "uczcdScc5dne"
      },
      "source": [
        "**Key Takeaways:**\n",
        "---\n",
        "* **Mean Age**: 46.8\n",
        "* **Mean Recovery Time**: 25.8\n",
        "* **75th percentile of Age**: 61"
      ]
    },
    {
      "cell_type": "markdown",
      "metadata": {
        "id": "3_vmJwpS-4nF"
      },
      "source": [
        "Based on these statistics:\n",
        "\n",
        "For our analysis, we have chosen to classify 'old patients' as those with an age > 60\n",
        "\n",
        "**This way, we are observing a sub-population that is reasonably large**"
      ]
    },
    {
      "cell_type": "code",
      "execution_count": null,
      "metadata": {
        "colab": {
          "base_uri": "https://localhost:8080/"
        },
        "id": "wKt_JEJv6RFG",
        "outputId": "3d88d9ae-c5de-4290-9883-6cb5eaf50aef"
      },
      "outputs": [
        {
          "output_type": "execute_result",
          "data": {
            "text/plain": [
              "256"
            ]
          },
          "metadata": {},
          "execution_count": 12
        }
      ],
      "source": [
        "old_patients = df[df['Age']>60] #Extracting patients older than 60\n",
        "old_patients.shape[0] #Checking number of old patients"
      ]
    },
    {
      "cell_type": "markdown",
      "metadata": {
        "id": "fSTvPU2A3Nah"
      },
      "source": [
        "## Condition"
      ]
    },
    {
      "cell_type": "code",
      "execution_count": null,
      "metadata": {
        "colab": {
          "base_uri": "https://localhost:8080/",
          "height": 467
        },
        "id": "V2laQxwlKS5B",
        "outputId": "ffb72763-af7c-465f-8c6d-09cfca0d1530"
      },
      "outputs": [
        {
          "output_type": "execute_result",
          "data": {
            "text/plain": [
              "<Axes: xlabel='Condition', ylabel='count'>"
            ]
          },
          "metadata": {},
          "execution_count": 13
        },
        {
          "output_type": "display_data",
          "data": {
            "text/plain": [
              "<Figure size 640x480 with 1 Axes>"
            ],
            "image/png": "[encoded data removed]"
          },
          "metadata": {}
        }
      ],
      "source": [
        "sns.countplot(x='Condition',data=df)"
      ]
    },
    {
      "cell_type": "code",
      "execution_count": null,
      "metadata": {
        "colab": {
          "base_uri": "https://localhost:8080/"
        },
        "id": "FaE73eXgmS0O",
        "outputId": "c11df538-cd8b-4147-eb54-d96c94632949"
      },
      "outputs": [
        {
          "output_type": "execute_result",
          "data": {
            "text/plain": [
              "Condition\n",
              "Cold             241\n",
              "Fever            206\n",
              "Arthritis        202\n",
              "Diabetes         155\n",
              "Heart Disease    137\n",
              "Injury            57\n",
              "Name: count, dtype: int64"
            ]
          },
          "metadata": {},
          "execution_count": 14
        }
      ],
      "source": [
        "df['Condition'].value_counts()"
      ]
    },
    {
      "cell_type": "markdown",
      "metadata": {
        "id": "sySkbpbb7u8g"
      },
      "source": [
        "***Potential Limitation:*** There are only 57 patients who were injured, which is significantly fewer than the number of patients having other conditions. Therefore, we have chosen *not to consider any insights coming from the injured patients, as they would be quite insignificant*"
      ]
    },
    {
      "cell_type": "code",
      "execution_count": null,
      "metadata": {
        "colab": {
          "base_uri": "https://localhost:8080/",
          "height": 466
        },
        "id": "SG_qqNhpg2zm",
        "outputId": "2a45895e-c3c0-4b6d-992c-ca5cd3b64676"
      },
      "outputs": [
        {
          "output_type": "execute_result",
          "data": {
            "text/plain": [
              "<Axes: xlabel='Condition', ylabel='Age'>"
            ]
          },
          "metadata": {},
          "execution_count": 15
        },
        {
          "output_type": "display_data",
          "data": {
            "text/plain": [
              "<Figure size 640x480 with 1 Axes>"
            ],
            "image/png": "[encoded data removed]"
          },
          "metadata": {}
        }
      ],
      "source": [
        "sns.boxplot(x='Condition',y='Age',data=df)"
      ]
    },
    {
      "cell_type": "code",
      "execution_count": null,
      "metadata": {
        "colab": {
          "base_uri": "https://localhost:8080/"
        },
        "id": "pBCa1_6_-LCr",
        "outputId": "ba6d011a-18c1-41af-9303-09a6b1031882"
      },
      "outputs": [
        {
          "output_type": "execute_result",
          "data": {
            "text/plain": [
              "Condition\n",
              "Heart Disease    96\n",
              "Arthritis        94\n",
              "Diabetes         49\n",
              "Cold              9\n",
              "Fever             6\n",
              "Injury            2\n",
              "Name: count, dtype: int64"
            ]
          },
          "metadata": {},
          "execution_count": 16
        }
      ],
      "source": [
        "old_patients['Condition'].value_counts()"
      ]
    },
    {
      "cell_type": "markdown",
      "metadata": {
        "id": "ZZf9XKuX8Cxz"
      },
      "source": [
        "Initially, we can observe that diabetes, arthritis and heart disease patients are relatively older than the other conditions' patients (cold, injury, fever)\n",
        "\n",
        "We will validate this insight using t-tests:"
      ]
    },
    {
      "cell_type": "code",
      "execution_count": null,
      "metadata": {
        "id": "3cyxBBYM7t-z",
        "colab": {
          "base_uri": "https://localhost:8080/"
        },
        "outputId": "b2063ffb-4f88-4acf-9a83-a19d70ea560f"
      },
      "outputs": [
        {
          "output_type": "execute_result",
          "data": {
            "text/plain": [
              "((494, 9), (504, 9))"
            ]
          },
          "metadata": {},
          "execution_count": 17
        }
      ],
      "source": [
        "#Separating the conditions of interest into 2 groups\n",
        "conds1 = ['Diabetes','Arthritis','Heart Disease']\n",
        "conds2 = ['Cold','Injury','Fever']\n",
        "\n",
        "sample1 = df[df['Condition'].isin(conds1)] #Observations for Diabetes, Arthritis, Heart Disease\n",
        "sample2 = df[df['Condition'].isin(conds2)] #Observations for Cold, Injury, Fever\n",
        "\n",
        "(sample1.shape, sample2.shape)"
      ]
    },
    {
      "cell_type": "markdown",
      "metadata": {
        "id": "3Rm6r7yA82aZ"
      },
      "source": [
        "Both samples are almost equal in observations"
      ]
    },
    {
      "cell_type": "code",
      "execution_count": null,
      "metadata": {
        "colab": {
          "base_uri": "https://localhost:8080/"
        },
        "id": "rAb9xbGR81I9",
        "outputId": "ccfcc534-8f0c-4c52-8da7-3a18ef4b0dc8"
      },
      "outputs": [
        {
          "output_type": "stream",
          "name": "stdout",
          "text": [
            "T-Statistic: 26.236125902920598\n",
            "P-Value: 1.3146910250665712e-95\n"
          ]
        }
      ],
      "source": [
        "from scipy.stats import ttest_1samp #Function from scipy.stats that calculates a T-test for the mean of a group of scores\n",
        "mean_age = summary['Age']['mean'] #Extracting the mean from the descriptive statistics ('summary') table\n",
        "t_statistic, p_value = ttest_1samp(sample1['Age'], mean_age) #Running the t-test with 'conds1' as the sub-group\n",
        "print(\"T-Statistic:\", t_statistic)\n",
        "print(\"P-Value:\", p_value)"
      ]
    },
    {
      "cell_type": "code",
      "execution_count": null,
      "metadata": {
        "colab": {
          "base_uri": "https://localhost:8080/"
        },
        "id": "jnUrZVjS9gQk",
        "outputId": "0aed8028-21ea-4100-dab2-f475ea386f3c"
      },
      "outputs": [
        {
          "output_type": "stream",
          "name": "stdout",
          "text": [
            "T-Statistic: -21.47364112157511\n",
            "P-Value: 4.424406255783979e-73\n"
          ]
        }
      ],
      "source": [
        "from scipy.stats import ttest_1samp\n",
        "mean_age = summary['Age']['mean']\n",
        "t_statistic, p_value = ttest_1samp(sample2['Age'], mean_age) #Running the t-test with 'conds2' as the sub-group\n",
        "print(\"T-Statistic:\", t_statistic)\n",
        "print(\"P-Value:\", p_value)"
      ]
    },
    {
      "cell_type": "markdown",
      "metadata": {
        "id": "l3aluP2K9po_"
      },
      "source": [
        "The very small p-values in both tests validate that the diabetes, arthritis, and heart disease patients are relatively old, whereas the cold, fever, and injury patients are relatively young"
      ]
    },
    {
      "cell_type": "markdown",
      "metadata": {
        "id": "0VpcsReX-c_q"
      },
      "source": [
        "## Age"
      ]
    },
    {
      "cell_type": "code",
      "execution_count": null,
      "metadata": {
        "colab": {
          "base_uri": "https://localhost:8080/",
          "height": 466
        },
        "id": "FoPJcOg09nK2",
        "outputId": "3567f256-fd7b-42b5-e5bb-7a2d4362ae0a"
      },
      "outputs": [
        {
          "output_type": "execute_result",
          "data": {
            "text/plain": [
              "<Axes: xlabel='Age', ylabel='Count'>"
            ]
          },
          "metadata": {},
          "execution_count": 20
        },
        {
          "output_type": "display_data",
          "data": {
            "text/plain": [
              "<Figure size 640x480 with 1 Axes>"
            ],
            "image/png": "[encoded data removed]"
          },
          "metadata": {}
        }
      ],
      "source": [
        "sns.histplot(x='Age',data=df) #Visualizing the age distribution"
      ]
    },
    {
      "cell_type": "markdown",
      "source": [
        "A relatively young population, but also quite concentrated in the middle ages"
      ],
      "metadata": {
        "id": "tgf66SmE9fC7"
      }
    },
    {
      "cell_type": "markdown",
      "metadata": {
        "id": "qs0_Nu-Y_44_"
      },
      "source": [
        "## Recovery Time"
      ]
    },
    {
      "cell_type": "code",
      "execution_count": null,
      "metadata": {
        "colab": {
          "base_uri": "https://localhost:8080/",
          "height": 466
        },
        "id": "pKT3y8Cp-iWu",
        "outputId": "d0d832e5-ad69-4201-8478-2c4f068bcc1f"
      },
      "outputs": [
        {
          "output_type": "execute_result",
          "data": {
            "text/plain": [
              "<Axes: xlabel='RecoveryTime'>"
            ]
          },
          "metadata": {},
          "execution_count": 21
        },
        {
          "output_type": "display_data",
          "data": {
            "text/plain": [
              "<Figure size 640x480 with 1 Axes>"
            ],
            "image/png": "[encoded data removed]"
          },
          "metadata": {}
        }
      ],
      "source": [
        "sns.boxplot(x='RecoveryTime',data=df) #Visualizing the recovery time distribution"
      ]
    },
    {
      "cell_type": "code",
      "execution_count": null,
      "metadata": {
        "colab": {
          "base_uri": "https://localhost:8080/"
        },
        "id": "cCJnIFVVABrg",
        "outputId": "fd9183a1-c72e-41de-fb52-bcbe60aff694"
      },
      "outputs": [
        {
          "output_type": "execute_result",
          "data": {
            "text/plain": [
              "81.5"
            ]
          },
          "metadata": {},
          "execution_count": 22
        }
      ],
      "source": [
        "upper_limit = summary['RecoveryTime']['75%'] + 1.5*(summary['RecoveryTime']['75%']-summary['RecoveryTime']['25%'])\n",
        "upper_limit"
      ]
    },
    {
      "cell_type": "markdown",
      "metadata": {
        "id": "Thgde_dQAYOH"
      },
      "source": [
        "Patients taking longer than 81.5 days to recover are considered outliers according to the boxplot\n",
        "\n",
        "**However, we have chosen not to consider these values as outliers, as one of our hypotheses is that the patient's condition influences their recovery time, therefore some conditions may naturally have higher recovery time**"
      ]
    },
    {
      "cell_type": "markdown",
      "source": [
        "#**RESULTS**"
      ],
      "metadata": {
        "id": "iJYQq1HJV9vk"
      }
    },
    {
      "cell_type": "markdown",
      "source": [
        "In the following sections, we will state our hypotheses and either accept or reject them"
      ],
      "metadata": {
        "id": "Nw24kbs3Vv_T"
      }
    },
    {
      "cell_type": "markdown",
      "source": [
        "## 1. Demographic Factors Hypotheses"
      ],
      "metadata": {
        "id": "R-nPgYhnLCET"
      }
    },
    {
      "cell_type": "markdown",
      "metadata": {
        "id": "rkjdNWtxEYNP"
      },
      "source": [
        "### 1.1 The patient's age has an effect on their recovery time"
      ]
    },
    {
      "cell_type": "markdown",
      "metadata": {
        "id": "R-6VN32mEcYy"
      },
      "source": [
        "We observed during our exploratory data analysis that a patient's age was associated with the types of conditions they pick up. Combining this insight with the insight that a patient's condition has an effect on their recovery time, we will explore whether or not a patient's age"
      ]
    },
    {
      "cell_type": "code",
      "execution_count": null,
      "metadata": {
        "colab": {
          "base_uri": "https://localhost:8080/",
          "height": 466
        },
        "id": "YtNM03bHDGp8",
        "outputId": "a2aeb327-3ea0-44a7-ce68-bcc28344e47d"
      },
      "outputs": [
        {
          "output_type": "execute_result",
          "data": {
            "text/plain": [
              "<Axes: xlabel='Age', ylabel='RecoveryTime'>"
            ]
          },
          "metadata": {},
          "execution_count": 23
        },
        {
          "output_type": "display_data",
          "data": {
            "text/plain": [
              "<Figure size 640x480 with 1 Axes>"
            ],
            "image/png": "[encoded data removed]"
          },
          "metadata": {}
        }
      ],
      "source": [
        "sns.regplot(x='Age',y='RecoveryTime',data=df)"
      ]
    },
    {
      "cell_type": "code",
      "execution_count": null,
      "metadata": {
        "colab": {
          "base_uri": "https://localhost:8080/"
        },
        "id": "PcZLLYRaFaWQ",
        "outputId": "e656cd16-6201-4016-e31b-3733b6612a6f"
      },
      "outputs": [
        {
          "output_type": "execute_result",
          "data": {
            "text/plain": [
              "0.5081922391262127"
            ]
          },
          "metadata": {},
          "execution_count": 24
        }
      ],
      "source": [
        "correlations['Age']['RecoveryTime']"
      ]
    },
    {
      "cell_type": "markdown",
      "metadata": {
        "id": "VcJOVkT0Gnxk"
      },
      "source": [
        "According to the correlation coefficient of 0.508 between Age and Recovery Time, there appears to be a positive relationship between these two variables, whereby older patients take longer to recover"
      ]
    },
    {
      "cell_type": "code",
      "execution_count": null,
      "metadata": {
        "colab": {
          "base_uri": "https://localhost:8080/"
        },
        "id": "xCKoaCrWFcNu",
        "outputId": "46a742d6-fcc6-472c-baf3-7d22e8966ad3"
      },
      "outputs": [
        {
          "output_type": "execute_result",
          "data": {
            "text/plain": [
              "(41.51953125, 25.849699398797597)"
            ]
          },
          "metadata": {},
          "execution_count": 25
        }
      ],
      "source": [
        "(old_patients.describe()['RecoveryTime']['mean'], summary['RecoveryTime']['mean'])"
      ]
    },
    {
      "cell_type": "markdown",
      "metadata": {
        "id": "TkymWB2LG3I2"
      },
      "source": [
        "Additionally, the mean recovery time for the 'old patients' is 41.5, whereas the mean recovery time for the whole data set is 25.8. At glance, this is a significant difference.\n",
        "\n",
        "To ensure its significance, we will run a t-test:"
      ]
    },
    {
      "cell_type": "code",
      "execution_count": null,
      "metadata": {
        "colab": {
          "base_uri": "https://localhost:8080/"
        },
        "id": "nPDesUuXG2sp",
        "outputId": "3548fa07-2489-408c-bcdd-1cb4e7cbfcdf"
      },
      "outputs": [
        {
          "output_type": "stream",
          "name": "stdout",
          "text": [
            "T-Statistic: 10.287942141630907\n",
            "P-Value: 5.452255803547119e-21\n"
          ]
        }
      ],
      "source": [
        "mean_rec_time = summary['RecoveryTime']['mean']\n",
        "mean_rec_time\n",
        "t_statistic, p_value = ttest_1samp(old_patients['RecoveryTime'], mean_rec_time)\n",
        "print(\"T-Statistic:\", t_statistic)\n",
        "print(\"P-Value:\", p_value)"
      ]
    },
    {
      "cell_type": "markdown",
      "metadata": {
        "id": "OpWyTFTWIr6J"
      },
      "source": [
        "A p-value < 0.05 verifies this insight\n",
        "\n",
        "We can now state that a patient's age indeed does affect their recovery time\n",
        "\n",
        "**HYPOTHESIS PROVED ✅**"
      ]
    },
    {
      "cell_type": "markdown",
      "metadata": {
        "id": "qjcHykCqjeGf"
      },
      "source": [
        "### 1.2 The patient's Gender has an effect on their recovery time"
      ]
    },
    {
      "cell_type": "code",
      "execution_count": null,
      "metadata": {
        "colab": {
          "base_uri": "https://localhost:8080/",
          "height": 466
        },
        "id": "q1iLisZKmmY8",
        "outputId": "09540e75-bc78-4ce0-a65e-b9d167637cf9"
      },
      "outputs": [
        {
          "output_type": "execute_result",
          "data": {
            "text/plain": [
              "<Axes: xlabel='Gender', ylabel='RecoveryTime'>"
            ]
          },
          "metadata": {},
          "execution_count": 27
        },
        {
          "output_type": "display_data",
          "data": {
            "text/plain": [
              "<Figure size 640x480 with 1 Axes>"
            ],
            "image/png": "[encoded data removed]"
          },
          "metadata": {}
        }
      ],
      "source": [
        "sns.boxplot(x='Gender',y='RecoveryTime',data=df)"
      ]
    },
    {
      "cell_type": "markdown",
      "metadata": {
        "id": "kaYpm_Wenw-P"
      },
      "source": [
        "There is no observable impact of gender on recovery time according to this boxplox (quartiles are almost equal)\n",
        "\n",
        "We can run a t-test to verify this claim:"
      ]
    },
    {
      "cell_type": "code",
      "execution_count": null,
      "metadata": {
        "colab": {
          "base_uri": "https://localhost:8080/"
        },
        "id": "Y08C7NzdnwgT",
        "outputId": "22dd0d0e-6012-45f2-d7c2-71bab227ab5c"
      },
      "outputs": [
        {
          "output_type": "stream",
          "name": "stdout",
          "text": [
            "T-Statistic: 1.262018585050192\n",
            "P-Value: 0.20757067027417506\n"
          ]
        }
      ],
      "source": [
        "from scipy.stats import ttest_1samp\n",
        "summary = df.describe()\n",
        "males = df[df['Gender']=='Male']\n",
        "mean_rec_time = summary['RecoveryTime']['mean']\n",
        "t_statistic, p_value = ttest_1samp(males['RecoveryTime'], mean_rec_time)\n",
        "print(\"T-Statistic:\", t_statistic)\n",
        "print(\"P-Value:\", p_value)"
      ]
    },
    {
      "cell_type": "markdown",
      "metadata": {
        "id": "DFNsIPz-o1Uf"
      },
      "source": [
        "P-value >0.05, therefore results are not statistically significant\n",
        "\n",
        "Let's consider the effect of Gender in a different way: What if gender affects the patient's recovery of a certain condition?"
      ]
    },
    {
      "cell_type": "code",
      "execution_count": null,
      "metadata": {
        "colab": {
          "base_uri": "https://localhost:8080/",
          "height": 466
        },
        "id": "9XXV2XVbCZoJ",
        "outputId": "b48fc823-394d-4cfc-cad2-55e28734426e"
      },
      "outputs": [
        {
          "output_type": "execute_result",
          "data": {
            "text/plain": [
              "<Axes: xlabel='Condition', ylabel='RecoveryTime'>"
            ]
          },
          "metadata": {},
          "execution_count": 29
        },
        {
          "output_type": "display_data",
          "data": {
            "text/plain": [
              "<Figure size 640x480 with 1 Axes>"
            ],
            "image/png": "[encoded data removed]"
          },
          "metadata": {}
        }
      ],
      "source": [
        "sns.barplot(x='Condition',y='RecoveryTime',hue='Gender',data=df)"
      ]
    },
    {
      "cell_type": "markdown",
      "metadata": {
        "id": "9cuWdSxbDgaT"
      },
      "source": [
        "**Gender has no effect on recovery time, error bars overlapping**\n",
        "\n",
        "Maybe males/females recover better with certain treatments?"
      ]
    },
    {
      "cell_type": "code",
      "execution_count": null,
      "metadata": {
        "colab": {
          "base_uri": "https://localhost:8080/",
          "height": 466
        },
        "id": "S9neiJxmDOBz",
        "outputId": "ec0b5971-a478-4c7e-ac55-47a20ea50a72"
      },
      "outputs": [
        {
          "output_type": "execute_result",
          "data": {
            "text/plain": [
              "<Axes: xlabel='Treatment', ylabel='RecoveryTime'>"
            ]
          },
          "metadata": {},
          "execution_count": 30
        },
        {
          "output_type": "display_data",
          "data": {
            "text/plain": [
              "<Figure size 640x480 with 1 Axes>"
            ],
            "image/png": "[encoded data removed]"
          },
          "metadata": {}
        }
      ],
      "source": [
        "sns.barplot(x='Treatment',y='RecoveryTime',hue='Gender',data=arthritis_patients)"
      ]
    },
    {
      "cell_type": "markdown",
      "metadata": {
        "id": "5_FFfmaSFQfg"
      },
      "source": [
        "Both graphs look very similar, no observable effect\n",
        "\n",
        "*This pattern was observed when comparing the treatments of every condition*\n",
        "\n",
        "Visualizing this differently:"
      ]
    },
    {
      "cell_type": "code",
      "execution_count": null,
      "metadata": {
        "colab": {
          "base_uri": "https://localhost:8080/",
          "height": 466
        },
        "id": "773l9WOf6rVB",
        "outputId": "ccc7ca99-e0da-463c-b6af-45e592e55324"
      },
      "outputs": [
        {
          "output_type": "execute_result",
          "data": {
            "text/plain": [
              "<Axes: xlabel='Treatment', ylabel='RecoveryTime'>"
            ]
          },
          "metadata": {},
          "execution_count": 31
        },
        {
          "output_type": "display_data",
          "data": {
            "text/plain": [
              "<Figure size 640x480 with 1 Axes>"
            ],
            "image/png": "[encoded data removed]"
          },
          "metadata": {}
        }
      ],
      "source": [
        "sns.boxplot(x='Treatment',y='RecoveryTime',hue='Gender',data=df)"
      ]
    },
    {
      "cell_type": "markdown",
      "metadata": {
        "id": "Km1CW-2jqNUW"
      },
      "source": [
        "Median values are very similar across all conditions with the exception of injury"
      ]
    },
    {
      "cell_type": "code",
      "execution_count": null,
      "metadata": {
        "colab": {
          "base_uri": "https://localhost:8080/"
        },
        "id": "2oRK8UlW7E3w",
        "outputId": "f942088b-5cfc-48cc-b8bf-917a24576172"
      },
      "outputs": [
        {
          "output_type": "stream",
          "name": "stdout",
          "text": [
            "T-Statistic: 0.23203558681852451\n",
            "P-Value: 0.817438943084744\n"
          ]
        }
      ],
      "source": [
        "surgery_patients = df[df['Treatment']=='Surgery']\n",
        "male_surgery = surgery_patients[surgery_patients['Gender']=='Male']\n",
        "mean_rec_time_surgery = surgery_patients.describe()['RecoveryTime']['mean']\n",
        "\n",
        "t_statistic, p_value = ttest_1samp(male_surgery['RecoveryTime'], mean_rec_time_surgery)\n",
        "print(\"T-Statistic:\", t_statistic)\n",
        "print(\"P-Value:\", p_value)"
      ]
    },
    {
      "cell_type": "markdown",
      "metadata": {
        "id": "NA0vZOhKr9dK"
      },
      "source": [
        "Highly insignificant, p-value is very large.\n",
        "\n",
        "After taking multiple steps to find a relationship, we can finally conclude that Gender has **no effect on recovery time**\n",
        "\n",
        "**HYPOTHESIS REFUTED ❌**"
      ]
    },
    {
      "cell_type": "markdown",
      "source": [
        "##2. Lifestyle Habits Hypotheses"
      ],
      "metadata": {
        "id": "2AbPefVQKupu"
      }
    },
    {
      "cell_type": "markdown",
      "metadata": {
        "id": "UT_sjoj1joUZ"
      },
      "source": [
        "###2.1 Smoking ONLY impacts the recovery time of patients with heart disease"
      ]
    },
    {
      "cell_type": "code",
      "execution_count": null,
      "metadata": {
        "colab": {
          "base_uri": "https://localhost:8080/",
          "height": 466
        },
        "id": "5QZLVlSH4BHZ",
        "outputId": "bf0f37f8-a2c8-4bd1-dd4f-7c3dec837659"
      },
      "outputs": [
        {
          "output_type": "execute_result",
          "data": {
            "text/plain": [
              "<Axes: xlabel='Condition', ylabel='RecoveryTime'>"
            ]
          },
          "metadata": {},
          "execution_count": 33
        },
        {
          "output_type": "display_data",
          "data": {
            "text/plain": [
              "<Figure size 640x480 with 1 Axes>"
            ],
            "image/png": "[encoded data removed]"
          },
          "metadata": {}
        }
      ],
      "source": [
        "sns.boxplot(x='Condition',y='RecoveryTime',hue='Smoking',data=df)"
      ]
    },
    {
      "cell_type": "markdown",
      "metadata": {
        "id": "6HaySH7D4m5J"
      },
      "source": [
        "Clearly, current smokers take longer to recovery across all conditions, however the most significant results are observed in the arthritis and heart disease patients."
      ]
    },
    {
      "cell_type": "code",
      "execution_count": null,
      "metadata": {
        "colab": {
          "base_uri": "https://localhost:8080/",
          "height": 466
        },
        "id": "H4NHDoF03HrF",
        "outputId": "2743777e-d731-413c-b1ea-f95d6c4cfc96"
      },
      "outputs": [
        {
          "output_type": "execute_result",
          "data": {
            "text/plain": [
              "<Axes: xlabel='Smoking', ylabel='RecoveryTime'>"
            ]
          },
          "metadata": {},
          "execution_count": 34
        },
        {
          "output_type": "display_data",
          "data": {
            "text/plain": [
              "<Figure size 640x480 with 1 Axes>"
            ],
            "image/png": "[encoded data removed]"
          },
          "metadata": {}
        }
      ],
      "source": [
        "sns.barplot(x='Smoking',y='RecoveryTime',data=heart_disease_patients)"
      ]
    },
    {
      "cell_type": "markdown",
      "metadata": {
        "id": "1VMwtTmM5zUL"
      },
      "source": [
        "Current smokers cleraly take longer to recover from heart disease"
      ]
    },
    {
      "cell_type": "code",
      "execution_count": null,
      "metadata": {
        "colab": {
          "base_uri": "https://localhost:8080/",
          "height": 466
        },
        "id": "-FhBw90FFClO",
        "outputId": "151a51ef-2b3e-4f8f-ff11-79c7f13a5887"
      },
      "outputs": [
        {
          "output_type": "execute_result",
          "data": {
            "text/plain": [
              "<Axes: xlabel='Smoking', ylabel='RecoveryTime'>"
            ]
          },
          "metadata": {},
          "execution_count": 35
        },
        {
          "output_type": "display_data",
          "data": {
            "text/plain": [
              "<Figure size 640x480 with 1 Axes>"
            ],
            "image/png": "[encoded data removed]"
          },
          "metadata": {}
        }
      ],
      "source": [
        "sns.boxplot(x='Smoking',y='RecoveryTime',data=diabetes_patients)"
      ]
    },
    {
      "cell_type": "code",
      "execution_count": null,
      "metadata": {
        "colab": {
          "base_uri": "https://localhost:8080/",
          "height": 466
        },
        "id": "W0u4sgqrwXuj",
        "outputId": "9845a504-cf0f-475d-cd59-bad6790ae488"
      },
      "outputs": [
        {
          "output_type": "execute_result",
          "data": {
            "text/plain": [
              "<Axes: xlabel='Smoking', ylabel='RecoveryTime'>"
            ]
          },
          "metadata": {},
          "execution_count": 36
        },
        {
          "output_type": "display_data",
          "data": {
            "text/plain": [
              "<Figure size 640x480 with 1 Axes>"
            ],
            "image/png": "[encoded data removed]"
          },
          "metadata": {}
        }
      ],
      "source": [
        "sns.boxplot(x='Smoking',y='RecoveryTime',data=arthritis_patients)"
      ]
    },
    {
      "cell_type": "code",
      "execution_count": null,
      "metadata": {
        "colab": {
          "base_uri": "https://localhost:8080/"
        },
        "id": "bXSgqFFc79kM",
        "outputId": "cc3ff07d-6b67-484f-f57b-d45528f7ab88"
      },
      "outputs": [
        {
          "output_type": "stream",
          "name": "stdout",
          "text": [
            "F-Statistic: 15.93381305608171\n",
            "P-Value: 5.220501683095396e-07\n"
          ]
        }
      ],
      "source": [
        "from scipy.stats import f_oneway\n",
        "\n",
        "NeverSmk_diabetes = diabetes_patients[diabetes_patients['Smoking']=='Never']\n",
        "FormerSmk_diabetes = diabetes_patients[diabetes_patients['Smoking']=='Former']\n",
        "CurrentSmk_diabetes = diabetes_patients[diabetes_patients['Smoking']=='Current']\n",
        "\n",
        "f_statistic, p_value = f_oneway(NeverSmk_diabetes['RecoveryTime'],FormerSmk_diabetes['RecoveryTime'],CurrentSmk_diabetes['RecoveryTime'])\n",
        "\n",
        "print(\"F-Statistic:\", f_statistic)\n",
        "print(\"P-Value:\", p_value)"
      ]
    },
    {
      "cell_type": "code",
      "execution_count": null,
      "metadata": {
        "colab": {
          "base_uri": "https://localhost:8080/"
        },
        "id": "nFaTMdyu6hWi",
        "outputId": "71ece3ec-d58b-4535-fa0b-ba1c38e7f950"
      },
      "outputs": [
        {
          "output_type": "stream",
          "name": "stdout",
          "text": [
            "F-Statistic: 25.600573259681035\n",
            "P-Value: 1.2767215930315895e-10\n"
          ]
        }
      ],
      "source": [
        "from scipy.stats import f_oneway\n",
        "\n",
        "NeverSmk_arth = arthritis_patients[arthritis_patients['Smoking']=='Never']\n",
        "FormerSmk_arth = arthritis_patients[arthritis_patients['Smoking']=='Former']\n",
        "CurrentSmk_arth = arthritis_patients[arthritis_patients['Smoking']=='Current']\n",
        "\n",
        "f_statistic, p_value = f_oneway(NeverSmk_arth['RecoveryTime'],FormerSmk_arth['RecoveryTime'],CurrentSmk_arth['RecoveryTime'])\n",
        "\n",
        "print(\"F-Statistic:\", f_statistic)\n",
        "print(\"P-Value:\", p_value)"
      ]
    },
    {
      "cell_type": "code",
      "source": [
        "NeverSmk_fever = fever_patients[fever_patients['Smoking']=='Never']\n",
        "FormerSmk_fever = fever_patients[fever_patients['Smoking']=='Former']\n",
        "CurrentSmk_fever = fever_patients[fever_patients['Smoking']=='Current']\n",
        "\n",
        "f_statistic, p_value = f_oneway(NeverSmk_fever['RecoveryTime'],FormerSmk_fever['RecoveryTime'],CurrentSmk_fever['RecoveryTime'])\n",
        "\n",
        "print(\"F-Statistic:\", f_statistic)\n",
        "print(\"P-Value:\", p_value)"
      ],
      "metadata": {
        "colab": {
          "base_uri": "https://localhost:8080/"
        },
        "id": "sEIi0UotLTiC",
        "outputId": "159fecf9-38af-451a-a8f9-b70aa7e7331a"
      },
      "execution_count": null,
      "outputs": [
        {
          "output_type": "stream",
          "name": "stdout",
          "text": [
            "F-Statistic: 20.832522382214965\n",
            "P-Value: 5.899257253334892e-09\n"
          ]
        }
      ]
    },
    {
      "cell_type": "markdown",
      "metadata": {
        "id": "8k_y6pfC8mzE"
      },
      "source": [
        "Current smoking habits can also increase the recovery time of patients with diabetes, arthritis, and a fever\n",
        "\n",
        "Therefore, smoking habits **do not only affect patients with heart disease**\n",
        "\n",
        "**HYPOTHESIS REFUTED ❌**"
      ]
    },
    {
      "cell_type": "markdown",
      "metadata": {
        "id": "njJH4qcAjqDo"
      },
      "source": [
        "### 2.2 Drinking ONLY impacts the recovery time of patients with diabetes\n"
      ]
    },
    {
      "cell_type": "code",
      "execution_count": null,
      "metadata": {
        "colab": {
          "base_uri": "https://localhost:8080/",
          "height": 466
        },
        "id": "fCa4FArbjrBG",
        "outputId": "d3d4c78b-afb0-4d09-9662-2a41eadf5d61"
      },
      "outputs": [
        {
          "output_type": "execute_result",
          "data": {
            "text/plain": [
              "<Axes: xlabel='Condition', ylabel='RecoveryTime'>"
            ]
          },
          "metadata": {},
          "execution_count": 40
        },
        {
          "output_type": "display_data",
          "data": {
            "text/plain": [
              "<Figure size 640x480 with 1 Axes>"
            ],
            "image/png": "[encoded data removed]"
          },
          "metadata": {}
        }
      ],
      "source": [
        "sns.boxplot(x='Condition',y='RecoveryTime',hue = 'Drinking',data=df)"
      ]
    },
    {
      "cell_type": "markdown",
      "metadata": {
        "id": "WYHnW6omp1vd"
      },
      "source": [
        "It appears that former drinkers have a higher recovery time when it comes to recovering from heart disease. This could be explained by the plausible fact that former drinkers have already caused permanent damage to their organs. It is also unclear whether or not drinking habits also affect the recovery time of patients with diabetes\n",
        "\n",
        "Running the necessary ANOVA tests:"
      ]
    },
    {
      "cell_type": "code",
      "source": [
        "NeverDrnk_diabetes = diabetes_patients[diabetes_patients['Drinking']=='Never']\n",
        "FormerDrnk_diabetes = diabetes_patients[diabetes_patients['Drinking']=='Former']\n",
        "CurrentDrnk_diabetes = diabetes_patients[diabetes_patients['Drinking']=='Current']\n",
        "\n",
        "f_statistic, p_value = f_oneway(NeverDrnk_diabetes['RecoveryTime'],FormerDrnk_diabetes['RecoveryTime'],CurrentDrnk_diabetes['RecoveryTime'])\n",
        "\n",
        "print(\"F-Statistic:\", f_statistic)\n",
        "print(\"P-Value:\", p_value)"
      ],
      "metadata": {
        "colab": {
          "base_uri": "https://localhost:8080/"
        },
        "id": "trEIiFAWffbO",
        "outputId": "62094554-c5ed-41b8-8465-c1cc1d32e79a"
      },
      "execution_count": null,
      "outputs": [
        {
          "output_type": "stream",
          "name": "stdout",
          "text": [
            "F-Statistic: 1.9719894661608182\n",
            "P-Value: 0.1427244044303501\n"
          ]
        }
      ]
    },
    {
      "cell_type": "code",
      "source": [
        "NeverDrnk_heart_disease = heart_disease_patients[heart_disease_patients['Drinking']=='Never']\n",
        "FormerDrnk_heart_disease = heart_disease_patients[heart_disease_patients['Drinking']=='Former']\n",
        "CurrentDrnk_heart_disease = heart_disease_patients[heart_disease_patients['Drinking']=='Current']\n",
        "\n",
        "f_statistic, p_value = f_oneway(NeverDrnk_heart_disease['RecoveryTime'],FormerDrnk_heart_disease['RecoveryTime'],CurrentDrnk_heart_disease['RecoveryTime'])\n",
        "\n",
        "print(\"F-Statistic:\", f_statistic)\n",
        "print(\"P-Value:\", p_value)"
      ],
      "metadata": {
        "colab": {
          "base_uri": "https://localhost:8080/"
        },
        "id": "d5lHWc2HffKF",
        "outputId": "0c0305e5-4d16-4c9e-a2c0-3c578dee1406"
      },
      "execution_count": null,
      "outputs": [
        {
          "output_type": "stream",
          "name": "stdout",
          "text": [
            "F-Statistic: 4.874644388882765\n",
            "P-Value: 0.009045639600739454\n"
          ]
        }
      ]
    },
    {
      "cell_type": "markdown",
      "source": [
        "Contrary to our hypothesis, there is no significant effect of drinking on the recovery time of patients with diabetes.\n",
        "\n",
        "However, there indeed is a significant effect on the recovery time of patients with heart disease.\n",
        "\n",
        "**HYPOTHESIS REFUTED ❌**"
      ],
      "metadata": {
        "id": "zLatKOZSTaIv"
      }
    },
    {
      "cell_type": "markdown",
      "metadata": {
        "id": "LzTxBegJjrYc"
      },
      "source": [
        "### 2.3 Exercise habits ONLY impact the recovery time of patients with heart disease\n"
      ]
    },
    {
      "cell_type": "code",
      "execution_count": null,
      "metadata": {
        "colab": {
          "base_uri": "https://localhost:8080/",
          "height": 466
        },
        "id": "bTM85W_ajsO7",
        "outputId": "a9b828c7-18ef-46d4-a65f-d9a4bd22da39"
      },
      "outputs": [
        {
          "output_type": "execute_result",
          "data": {
            "text/plain": [
              "<Axes: xlabel='Condition', ylabel='RecoveryTime'>"
            ]
          },
          "metadata": {},
          "execution_count": 43
        },
        {
          "output_type": "display_data",
          "data": {
            "text/plain": [
              "<Figure size 640x480 with 1 Axes>"
            ],
            "image/png": "[encoded data removed]"
          },
          "metadata": {}
        }
      ],
      "source": [
        "sns.boxplot(x='Condition',y='RecoveryTime',hue = 'Exercise',data=df)"
      ]
    },
    {
      "cell_type": "markdown",
      "metadata": {
        "id": "T1wseGWBmYdJ"
      },
      "source": [
        "- Cold and Fever are found to have almost no difference based on how frequently one exercises\n",
        "\n",
        "- There is a recognizable effect of low exercise leading to a longer recovery time in Heart Disease patients, however, the same can be said for Diabetes patients\n",
        "\n",
        "We will validate these claims using ANOVA tests:"
      ]
    },
    {
      "cell_type": "code",
      "execution_count": null,
      "metadata": {
        "colab": {
          "base_uri": "https://localhost:8080/",
          "height": 466
        },
        "id": "x6kGmpcwsuB6",
        "outputId": "7e218692-abd5-4e17-b9e2-d3f11b1a85d7"
      },
      "outputs": [
        {
          "output_type": "execute_result",
          "data": {
            "text/plain": [
              "<Axes: xlabel='Exercise', ylabel='RecoveryTime'>"
            ]
          },
          "metadata": {},
          "execution_count": 44
        },
        {
          "output_type": "display_data",
          "data": {
            "text/plain": [
              "<Figure size 640x480 with 1 Axes>"
            ],
            "image/png": "[encoded data removed]"
          },
          "metadata": {}
        }
      ],
      "source": [
        "sns.boxplot(x='Exercise', y = 'RecoveryTime', data = diabetes_patients)"
      ]
    },
    {
      "cell_type": "code",
      "execution_count": null,
      "metadata": {
        "colab": {
          "base_uri": "https://localhost:8080/"
        },
        "id": "XBBQZDQvp3PG",
        "outputId": "c6950029-ecac-4072-eb87-324f567e86a6"
      },
      "outputs": [
        {
          "output_type": "stream",
          "name": "stdout",
          "text": [
            "F-Statistic: 7.846276794258185\n",
            "P-Value: 0.0005715648939759501\n"
          ]
        }
      ],
      "source": [
        "Low_DB = diabetes_patients[diabetes_patients['Exercise'] == 'Low']\n",
        "Mod_DB = diabetes_patients[diabetes_patients['Exercise'] == 'Moderate']\n",
        "High_DB = diabetes_patients[diabetes_patients['Exercise'] == 'High']\n",
        "\n",
        "f_statistic, p_value = f_oneway(Low_DB['RecoveryTime'],Mod_DB['RecoveryTime'],High_DB['RecoveryTime'])\n",
        "\n",
        "print(\"F-Statistic:\", f_statistic)\n",
        "print(\"P-Value:\", p_value)"
      ]
    },
    {
      "cell_type": "markdown",
      "metadata": {
        "id": "XgTkkjwEw99k"
      },
      "source": [
        "\n",
        "The ANOVA test showed the statistical significance of the difference between exercise frequency in Diabtetes patients' recovery times, which we did not initially predict would be impacted."
      ]
    },
    {
      "cell_type": "code",
      "execution_count": null,
      "metadata": {
        "colab": {
          "base_uri": "https://localhost:8080/",
          "height": 466
        },
        "id": "WYgzZQtm34LT",
        "outputId": "b6c78b16-eee7-4c03-98d4-f49941dbc72b"
      },
      "outputs": [
        {
          "output_type": "execute_result",
          "data": {
            "text/plain": [
              "<Axes: xlabel='Exercise', ylabel='RecoveryTime'>"
            ]
          },
          "metadata": {},
          "execution_count": 46
        },
        {
          "output_type": "display_data",
          "data": {
            "text/plain": [
              "<Figure size 640x480 with 1 Axes>"
            ],
            "image/png": "[encoded data removed]"
          },
          "metadata": {}
        }
      ],
      "source": [
        "sns.boxplot(x='Exercise', y = 'RecoveryTime', data = heart_disease_patients)"
      ]
    },
    {
      "cell_type": "code",
      "execution_count": null,
      "metadata": {
        "colab": {
          "base_uri": "https://localhost:8080/"
        },
        "id": "hBZ5T7tT3-NF",
        "outputId": "ee5b0495-8313-4f7d-ae04-8ec64c2a7545"
      },
      "outputs": [
        {
          "output_type": "stream",
          "name": "stdout",
          "text": [
            "F-Statistic: 2.4986201567838346\n",
            "P-Value: 0.08602161292060942\n"
          ]
        }
      ],
      "source": [
        "Low_HD  = heart_disease_patients[heart_disease_patients['Exercise'] == 'Low']\n",
        "High_HD = heart_disease_patients[heart_disease_patients['Exercise'] == 'High']\n",
        "Mod_HD  = heart_disease_patients[heart_disease_patients['Exercise'] == 'Moderate']\n",
        "\n",
        "\n",
        "f_statistic, p_value = f_oneway(Low_HD['RecoveryTime'],Mod_HD['RecoveryTime'],High_HD['RecoveryTime'])\n",
        "\n",
        "print(\"F-Statistic:\", f_statistic)\n",
        "print(\"P-Value:\", p_value)"
      ]
    },
    {
      "cell_type": "markdown",
      "metadata": {
        "id": "UJn8ljaH5a1e"
      },
      "source": [
        "The results of the ANOVA test showed the P-Value to be 0.08 which is only marginally significant. However, logically, and based on the boxplot, Low Exercise showed higher recovery time than moderate and high, which may be due to the fact that poeple who usually exercise have better heart muscles.\n",
        "\n",
        "Therefore, we were wrong about a statistically significant effect of exercise habits on Heart Disease patients' recovery time, and did not expect a statistically significant effect of exercise habits on Diabetes patients, instead.\n",
        "\n",
        "**HYPOTHESIS REFUTED ❌**"
      ]
    },
    {
      "cell_type": "markdown",
      "metadata": {
        "id": "ZkJAevb4WqyN"
      },
      "source": [
        "## 3. Condition/Treatment Hypotheses"
      ]
    },
    {
      "cell_type": "markdown",
      "metadata": {
        "id": "YqFGzqu0A65j"
      },
      "source": [
        "### 3.1 The patient's condition has an effect on their recovery time"
      ]
    },
    {
      "cell_type": "code",
      "execution_count": null,
      "metadata": {
        "colab": {
          "base_uri": "https://localhost:8080/",
          "height": 449
        },
        "id": "UDGWEIQ-DoIF",
        "outputId": "c228d04d-f6ea-4e0c-c26a-e00245d62cbc"
      },
      "outputs": [
        {
          "output_type": "display_data",
          "data": {
            "text/plain": [
              "<Figure size 640x480 with 1 Axes>"
            ],
            "image/png": "[encoded data removed]"
          },
          "metadata": {}
        }
      ],
      "source": [
        "groups = [heart_disease_patients['RecoveryTime'],injury_patients['RecoveryTime'],fever_patients['RecoveryTime'],cold_patients['RecoveryTime'],diabetes_patients['RecoveryTime'],arthritis_patients['RecoveryTime']]\n",
        "plt.boxplot(groups)\n",
        "plt.xticks([1, 2, 3, 4, 5, 6], ['Heart Disease', 'Injury', 'Fever', 'Cold', 'Diabetes', 'Arthritis'])\n",
        "plt.xlabel('Condition')\n",
        "plt.ylabel('Recovery Time')\n",
        "plt.show()"
      ]
    },
    {
      "cell_type": "markdown",
      "metadata": {
        "id": "sTQ9qzA2DWrq"
      },
      "source": [
        "According to the results, there appears to be variability between different conditions' recovery time, meaning a patient's condition could be a factor that affects recovery time.\n",
        "\n",
        "*We will run an ANOVA test to visualize this:*"
      ]
    },
    {
      "cell_type": "code",
      "execution_count": null,
      "metadata": {
        "colab": {
          "base_uri": "https://localhost:8080/"
        },
        "id": "AZGBA0XpAF81",
        "outputId": "ebd458e6-790e-45bb-9c90-49e9a2f2ddd3"
      },
      "outputs": [
        {
          "output_type": "stream",
          "name": "stdout",
          "text": [
            "F-Statistic: 357.97028175056323\n",
            "P-Value: 3.272182101459875e-219\n"
          ]
        }
      ],
      "source": [
        "from scipy.stats import f_oneway\n",
        "\n",
        "f_statistic, p_value = f_oneway(heart_disease_patients['RecoveryTime'],injury_patients['RecoveryTime'],fever_patients['RecoveryTime'],cold_patients['RecoveryTime'],diabetes_patients['RecoveryTime'],arthritis_patients['RecoveryTime'])\n",
        "\n",
        "print(\"F-Statistic:\", f_statistic)\n",
        "print(\"P-Value:\", p_value)"
      ]
    },
    {
      "cell_type": "markdown",
      "metadata": {
        "id": "f-xi_OaODHt0"
      },
      "source": [
        "This **EXTREMELY SMALL** p-value proves this hypothesis\n",
        "\n",
        "Logically this makes sense, as different conditions are treated differently, which can result in different recovery times.\n",
        "\n",
        "**HYPOTHESIS PROVED ✅**"
      ]
    },
    {
      "cell_type": "markdown",
      "source": [
        "### 3.2 The treatment type has an effect on the patients’ recovery time, but is also dependent on the condition itself."
      ],
      "metadata": {
        "id": "SPvjt3nKKWyY"
      }
    },
    {
      "cell_type": "code",
      "execution_count": null,
      "metadata": {
        "colab": {
          "base_uri": "https://localhost:8080/",
          "height": 466
        },
        "id": "1Y1a4orEbiMy",
        "outputId": "aca4c322-684e-42ab-8b21-e630de5f360e"
      },
      "outputs": [
        {
          "output_type": "execute_result",
          "data": {
            "text/plain": [
              "<Axes: xlabel='Condition', ylabel='RecoveryTime'>"
            ]
          },
          "metadata": {},
          "execution_count": 50
        },
        {
          "output_type": "display_data",
          "data": {
            "text/plain": [
              "<Figure size 640x480 with 1 Axes>"
            ],
            "image/png": "[encoded data removed]"
          },
          "metadata": {}
        }
      ],
      "source": [
        "sns.boxplot(x='Condition',y='RecoveryTime',hue='Treatment',data=df)"
      ]
    },
    {
      "cell_type": "markdown",
      "metadata": {
        "id": "1mY6OEj5fcyC"
      },
      "source": [
        "Clearly each condition is treated by two distinct treatments\n",
        "\n",
        "1. **Diabetes:** Medication & Diet Control\n",
        "2. **Cold:** Warm Fluids & Rest\n",
        "3. **Injury:** Surgery & Physical Therapy\n",
        "4. **Fever:** Medication & Rest\n",
        "5. **Athritis:** Medication & Physical Therapy\n",
        "6. **Heart Disease:** Medication & Surgery\n",
        "\n",
        "However, there appears to be no evidence of a particular treatment of a certain condition being more effective than the other for that condition, due to the similar boxplot sizes and variances.\n",
        "\n",
        "This insight is not clear in the Heart Disease patients, we will run an ANOVA test to make sure:"
      ]
    },
    {
      "cell_type": "code",
      "execution_count": null,
      "metadata": {
        "colab": {
          "base_uri": "https://localhost:8080/"
        },
        "id": "NfZuU5MP-jMw",
        "outputId": "ba464a76-3ff2-4db9-c22c-0d8e4b3d7b2e"
      },
      "outputs": [
        {
          "output_type": "stream",
          "name": "stdout",
          "text": [
            "F-Statistic: 1.7649077649077651\n",
            "P-Value: 0.1851270534490574\n"
          ]
        }
      ],
      "source": [
        "f_statistic, p_value = f_oneway(heart_disease_patients['Treatment']=='Medication',heart_disease_patients['Treatment']=='Surgery')\n",
        "\n",
        "print(\"F-Statistic:\", f_statistic)\n",
        "print(\"P-Value:\", p_value)"
      ]
    },
    {
      "cell_type": "markdown",
      "source": [
        "A p-value > 0.05 proves that there is no significant difference between the effect of surgery vs medication on Heart Disease patients' recovery time. Therefore, the type of treatment a patient receives does not have a direct effect on their recovery time\n",
        "\n",
        "\n",
        "**However:**\n",
        "Recovery time may be dependent on treatment *based on the condition.*\n",
        "For instance, medication had a totally different recovery time range based on the conditions it treated: Diabetes, Fever, Arthritis, and Heart disease.\n",
        "\n",
        "**Nonetheless:**\n",
        "**HYPOTHESIS REJECTED ❌**"
      ],
      "metadata": {
        "id": "0k3P3EKiVveb"
      }
    },
    {
      "cell_type": "markdown",
      "source": [
        "# **CONCLUSION**"
      ],
      "metadata": {
        "id": "NWkZFWuW33MJ"
      }
    },
    {
      "cell_type": "markdown",
      "source": [
        "Going through our hypotheses one-by-one:\n",
        "\n",
        "---\n",
        "\n",
        "**1) Demographic Factors:**\n",
        "\n",
        "✅ 1.1: Age did have an effect on recovery time, as older patients did in fact take longer to recover, on average. This could be explained by the fact that older patients were observed to be concentrated in particular conditions (Heart Disease, Diabetes, Arthritis) which naturally had longer recovery times than Fever and Cold conditions.\n",
        "\n",
        "❌ 1.2: A patient's gender **did not** have an effect on their recovery time. We based our hypothesis on the thought that hormone discrepancies between the two groups may bring about a disparity in the average recovery time of patients, however this was not the case.\n",
        "\n",
        "---\n",
        "\n",
        "**2) Lifestyle Habits:**\n",
        "\n",
        "❌ 2.1: While current smokers did take longer to recover from heart disease, they also took longer to recover from **other conditions such as Diabetes & Arthritis**. Our weak knowledge of the effects of smoking on conditions such as arthritis led to us only considering heart disease patients to be affected by this habit. Additionally, the ambiguity in what defines 'current' and 'former' smokers made us unable to understand how heavily the habit is/was being practiced.\n",
        "\n",
        "❌ 2.2: Current drinkers were not . While we gave a plausible explanation for one of the insights in this section, we are not sure of its accuracy due to our lack of knowledge of the effects of alcohol on patients' recovery. As the labels for the 'Drinking' variable were the same as those for smoking, we faced the same issue of not knowing how much 'current' and 'former' drinkers drink and used to drink, respectively.\n",
        "\n",
        "❌ 2.3: Exercise habits had a ***marginally*** significant effect on Heart Disease patients' recovery time, however these habits did have a significant effect on Diabetes patients' recovery time, which we did not account for in our hypothesis. Similarly, we do not know what constitues 'low', 'moderate' and 'high' exercise, so we could not make full inferences on these results.\n",
        "\n",
        "***Perhaps our hypotheses were not the best choices for this section, however we still came up with some insights**\n",
        "\n",
        "---\n",
        "\n",
        "**3) Condition/Treatment:**\n",
        "\n",
        "✅ 3.1: A patient's condition did have a significant effect on their recovery time. Since naturally, different conditions have different recovery processes.\n",
        "\n",
        "❌ 3.2: A reason for 3.1 is that different treatments do not necessarily take the same time for a patient to fully recover, therefore the treatment type must have played a role in determining recovery time. However, there was no evidence of a **direct relationship** between treatment type and recovery time as different treatment types used on patients of a particular condition yielded similar recovery times across all conditions. It is the condition, rather, which *determines what treatment is used*, which could *indirectly affect* a patient's recovery time."
      ],
      "metadata": {
        "id": "RQRMBSOG35P3"
      }
    }
  ],
  "metadata": {
    "colab": {
      "provenance": []
    },
    "kernelspec": {
      "display_name": "Python 3",
      "name": "python3"
    },
    "language_info": {
      "name": "python"
    }
  },
  "nbformat": 4,
  "nbformat_minor": 0
}